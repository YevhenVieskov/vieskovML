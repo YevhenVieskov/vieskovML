{
 "cells": [
  {
   "cell_type": "code",
   "execution_count": null,
   "metadata": {
    "_cell_guid": "b1076dfc-b9ad-4769-8c92-a6c4dae69d19",
    "_uuid": "8f2839f25d086af736a60e9eeb907d3b93b6e0e5",
    "execution": {
     "iopub.execute_input": "2021-08-28T13:51:32.0483Z",
     "iopub.status.busy": "2021-08-28T13:51:32.047609Z",
     "iopub.status.idle": "2021-08-28T13:51:32.062781Z",
     "shell.execute_reply": "2021-08-28T13:51:32.061318Z",
     "shell.execute_reply.started": "2021-08-28T13:51:32.048253Z"
    }
   },
   "outputs": [],
   "source": [
    "# This Python 3 environment comes with many helpful analytics libraries installed\n",
    "# It is defined by the kaggle/python Docker image: https://github.com/kaggle/docker-python\n",
    "# For example, here's several helpful packages to load\n",
    "\n",
    "import numpy as np # linear algebra\n",
    "import pandas as pd # data processing, CSV file I/O (e.g. pd.read_csv)\n",
    "\n",
    "# Input data files are available in the read-only \"../input/\" directory\n",
    "# For example, running this (by clicking run or pressing Shift+Enter) will list all files under the input directory\n",
    "\n",
    "import os\n",
    "for dirname, _, filenames in os.walk('/kaggle/input'):\n",
    "    for filename in filenames:\n",
    "        print(os.path.join(dirname, filename))\n",
    "\n",
    "# You can write up to 20GB to the current directory (/kaggle/working/) that gets preserved as output when you create a version using \"Save & Run All\" \n",
    "# You can also write temporary files to /kaggle/temp/, but they won't be saved outside of the current session"
   ]
  },
  {
   "cell_type": "markdown",
   "metadata": {},
   "source": [
    "Welcome to the **[30 Days of ML competition](https://www.kaggle.com/c/30-days-of-ml/overview)**!  In this notebook, you'll learn how to make your first submission.\n",
    "\n",
    "Before getting started, make your own editable copy of this notebook by clicking on the **Copy and Edit** button.\n",
    "\n",
    "# Step 1: Import helpful libraries\n",
    "\n",
    "We begin by importing the libraries we'll need.  Some of them will be familiar from the **[Intro to Machine Learning](https://www.kaggle.com/learn/intro-to-machine-learning)** course and the **[Intermediate Machine Learning](https://www.kaggle.com/learn/intermediate-machine-learning)** course."
   ]
  },
  {
   "cell_type": "code",
   "execution_count": null,
   "metadata": {
    "execution": {
     "iopub.execute_input": "2021-08-28T13:51:32.068326Z",
     "iopub.status.busy": "2021-08-28T13:51:32.067823Z",
     "iopub.status.idle": "2021-08-28T13:51:33.595455Z",
     "shell.execute_reply": "2021-08-28T13:51:33.594504Z",
     "shell.execute_reply.started": "2021-08-28T13:51:32.068291Z"
    }
   },
   "outputs": [],
   "source": [
    "# Familiar imports\n",
    "import numpy as np\n",
    "import pandas as pd\n",
    "from scipy import stats\n",
    "\n",
    "# For ordinal encoding categorical variables, splitting data\n",
    "from sklearn.preprocessing import OrdinalEncoder\n",
    "from sklearn.model_selection import train_test_split\n",
    "\n",
    "# For training random forest model\n",
    "from sklearn.ensemble import RandomForestRegressor\n",
    "from sklearn.metrics import mean_squared_error\n",
    "\n",
    "pd.plotting.register_matplotlib_converters()\n",
    "import matplotlib.pyplot as plt\n",
    "%matplotlib inline\n",
    "import seaborn as sns\n",
    "sns.set_style('darkgrid')\n",
    "\n",
    "import datetime as dt\n",
    "from typing import Tuple, List, Dict\n",
    "#import plotly.graph_objects as go\n",
    "#from plotly.subplots import make_subplots\n",
    "#import plotly.express as px\n",
    "#import plotly.offline\n",
    "\n",
    "\n",
    "\n",
    "from sklearn.impute import SimpleImputer\n",
    "from sklearn.preprocessing import OneHotEncoder, LabelEncoder\n",
    "from sklearn.preprocessing import StandardScaler \n",
    "from sklearn.preprocessing import MinMaxScaler \n",
    "from sklearn.preprocessing import MaxAbsScaler\n",
    "from sklearn.compose import ColumnTransformer\n",
    "from sklearn.pipeline import Pipeline\n",
    "from sklearn.model_selection import cross_val_score\n",
    "from sklearn.decomposition import TruncatedSVD, NMF, PCA\n",
    "\n",
    "from sklearn.metrics import accuracy_score\n",
    "from sklearn.model_selection import GridSearchCV, StratifiedKFold, KFold\n",
    "from sklearn.feature_selection import SelectKBest, mutual_info_classif, SelectFromModel, chi2\n",
    "from sklearn.utils import shuffle\n",
    "from sklearn.compose import make_column_selector\n",
    "from sklearn.compose import make_column_transformer\n",
    "from sklearn.impute import SimpleImputer\n",
    "#from sklearn.pipeline import make_pipeline\n",
    "from sklearn.preprocessing import OrdinalEncoder\n",
    "from sklearn.preprocessing import OneHotEncoder\n",
    "from sklearn.preprocessing import StandardScaler\n",
    "from sklearn.linear_model import LassoCV\n",
    "from sklearn.experimental import enable_hist_gradient_boosting  # noqa\n",
    "from sklearn.ensemble import HistGradientBoostingRegressor\n",
    "from sklearn.ensemble import StackingRegressor\n",
    "from sklearn.linear_model import RidgeCV\n",
    "from sklearn.pipeline import make_pipeline\n",
    "RANDOM_STATE = 42"
   ]
  },
  {
   "cell_type": "markdown",
   "metadata": {},
   "source": [
    "# Step 2: Load the data\n",
    "\n",
    "Next, we'll load the training and test data.  \n",
    "\n",
    "We set `index_col=0` in the code cell below to use the `id` column to index the DataFrame.  (*If you're not sure how this works, try temporarily removing `index_col=0` and see how it changes the result.*)"
   ]
  },
  {
   "cell_type": "code",
   "execution_count": null,
   "metadata": {
    "execution": {
     "iopub.execute_input": "2021-08-28T13:51:33.597232Z",
     "iopub.status.busy": "2021-08-28T13:51:33.596898Z",
     "iopub.status.idle": "2021-08-28T13:51:38.08632Z",
     "shell.execute_reply": "2021-08-28T13:51:38.085166Z",
     "shell.execute_reply.started": "2021-08-28T13:51:33.597203Z"
    }
   },
   "outputs": [],
   "source": [
    "# Load the training data\n",
    "train = pd.read_csv(\"../input/30-days-of-ml/train.csv\", index_col=0)\n",
    "test = pd.read_csv(\"../input/30-days-of-ml/test.csv\", index_col=0)\n",
    "#train = pd.read_csv(\"train.csv\", index_col=0)\n",
    "#test = pd.read_csv(\"test.csv\", index_col=0)\n",
    "# Preview the data\n",
    "train.head()"
   ]
  },
  {
   "cell_type": "code",
   "execution_count": null,
   "metadata": {
    "execution": {
     "iopub.execute_input": "2021-08-28T13:51:38.088939Z",
     "iopub.status.busy": "2021-08-28T13:51:38.088503Z",
     "iopub.status.idle": "2021-08-28T13:51:38.156744Z",
     "shell.execute_reply": "2021-08-28T13:51:38.155776Z",
     "shell.execute_reply.started": "2021-08-28T13:51:38.088892Z"
    }
   },
   "outputs": [],
   "source": [
    "# Separate target from features\n",
    "y = train['target']\n",
    "features = train.drop(['target'], axis=1)\n",
    "\n",
    "# Preview features\n",
    "features.head()"
   ]
  },
  {
   "cell_type": "code",
   "execution_count": null,
   "metadata": {
    "execution": {
     "iopub.execute_input": "2021-08-28T13:51:38.15873Z",
     "iopub.status.busy": "2021-08-28T13:51:38.158426Z",
     "iopub.status.idle": "2021-08-28T13:51:38.165416Z",
     "shell.execute_reply": "2021-08-28T13:51:38.164371Z",
     "shell.execute_reply.started": "2021-08-28T13:51:38.158699Z"
    }
   },
   "outputs": [],
   "source": [
    "train.shape"
   ]
  },
  {
   "cell_type": "code",
   "execution_count": null,
   "metadata": {
    "execution": {
     "iopub.execute_input": "2021-08-28T13:51:38.167423Z",
     "iopub.status.busy": "2021-08-28T13:51:38.166998Z",
     "iopub.status.idle": "2021-08-28T13:51:38.179644Z",
     "shell.execute_reply": "2021-08-28T13:51:38.17847Z",
     "shell.execute_reply.started": "2021-08-28T13:51:38.167385Z"
    }
   },
   "outputs": [],
   "source": [
    "test.shape"
   ]
  },
  {
   "cell_type": "code",
   "execution_count": null,
   "metadata": {
    "execution": {
     "iopub.execute_input": "2021-08-28T13:51:38.181822Z",
     "iopub.status.busy": "2021-08-28T13:51:38.181303Z",
     "iopub.status.idle": "2021-08-28T13:51:38.337037Z",
     "shell.execute_reply": "2021-08-28T13:51:38.336005Z",
     "shell.execute_reply.started": "2021-08-28T13:51:38.181779Z"
    }
   },
   "outputs": [],
   "source": [
    "train.info()"
   ]
  },
  {
   "cell_type": "code",
   "execution_count": null,
   "metadata": {
    "execution": {
     "iopub.execute_input": "2021-08-28T13:51:38.338551Z",
     "iopub.status.busy": "2021-08-28T13:51:38.338165Z",
     "iopub.status.idle": "2021-08-28T13:51:38.439079Z",
     "shell.execute_reply": "2021-08-28T13:51:38.437914Z",
     "shell.execute_reply.started": "2021-08-28T13:51:38.338502Z"
    }
   },
   "outputs": [],
   "source": [
    "test.info()"
   ]
  },
  {
   "cell_type": "code",
   "execution_count": null,
   "metadata": {
    "execution": {
     "iopub.execute_input": "2021-08-28T13:51:38.442617Z",
     "iopub.status.busy": "2021-08-28T13:51:38.442207Z",
     "iopub.status.idle": "2021-08-28T13:51:38.68345Z",
     "shell.execute_reply": "2021-08-28T13:51:38.682508Z",
     "shell.execute_reply.started": "2021-08-28T13:51:38.442573Z"
    }
   },
   "outputs": [],
   "source": [
    "train.describe()"
   ]
  },
  {
   "cell_type": "code",
   "execution_count": null,
   "metadata": {
    "execution": {
     "iopub.execute_input": "2021-08-28T13:51:38.68572Z",
     "iopub.status.busy": "2021-08-28T13:51:38.68514Z",
     "iopub.status.idle": "2021-08-28T13:51:38.8498Z",
     "shell.execute_reply": "2021-08-28T13:51:38.848771Z",
     "shell.execute_reply.started": "2021-08-28T13:51:38.685683Z"
    }
   },
   "outputs": [],
   "source": [
    "test.describe()"
   ]
  },
  {
   "cell_type": "code",
   "execution_count": null,
   "metadata": {
    "execution": {
     "iopub.execute_input": "2021-08-28T13:51:38.851642Z",
     "iopub.status.busy": "2021-08-28T13:51:38.851227Z",
     "iopub.status.idle": "2021-08-28T13:51:39.114915Z",
     "shell.execute_reply": "2021-08-28T13:51:39.113727Z",
     "shell.execute_reply.started": "2021-08-28T13:51:38.851598Z"
    }
   },
   "outputs": [],
   "source": [
    "train.loc[:, 'cat0':'cat9'].value_counts()"
   ]
  },
  {
   "cell_type": "code",
   "execution_count": null,
   "metadata": {
    "execution": {
     "iopub.execute_input": "2021-08-28T13:51:39.116989Z",
     "iopub.status.busy": "2021-08-28T13:51:39.116587Z",
     "iopub.status.idle": "2021-08-28T13:51:39.428818Z",
     "shell.execute_reply": "2021-08-28T13:51:39.427645Z",
     "shell.execute_reply.started": "2021-08-28T13:51:39.116947Z"
    }
   },
   "outputs": [],
   "source": [
    "train.loc[:, 'cat0':'cat9'].nunique()"
   ]
  },
  {
   "cell_type": "code",
   "execution_count": null,
   "metadata": {
    "execution": {
     "iopub.execute_input": "2021-08-28T13:51:39.430793Z",
     "iopub.status.busy": "2021-08-28T13:51:39.430368Z",
     "iopub.status.idle": "2021-08-28T13:51:39.647783Z",
     "shell.execute_reply": "2021-08-28T13:51:39.646684Z",
     "shell.execute_reply.started": "2021-08-28T13:51:39.430749Z"
    }
   },
   "outputs": [],
   "source": [
    "print('Missing values in train dataset:', sum(train.isnull().sum()))\n",
    "print('Missing values in test dataset:', sum(test.isnull().sum()))"
   ]
  },
  {
   "cell_type": "markdown",
   "metadata": {},
   "source": [
    "# Step 3: Prepare the data\n",
    "\n",
    "Next, we'll need to handle the categorical columns (`cat0`, `cat1`, ... `cat9`).  \n",
    "\n",
    "In the **[Categorical Variables lesson](https://www.kaggle.com/alexisbcook/categorical-variables)** in the Intermediate Machine Learning course, you learned several different ways to encode categorical variables in a dataset.  In this notebook, we'll use ordinal encoding and save our encoded features as new variables `X` and `X_test`."
   ]
  },
  {
   "cell_type": "code",
   "execution_count": null,
   "metadata": {
    "execution": {
     "iopub.execute_input": "2021-08-28T13:51:39.649506Z",
     "iopub.status.busy": "2021-08-28T13:51:39.649115Z",
     "iopub.status.idle": "2021-08-28T13:51:39.734518Z",
     "shell.execute_reply": "2021-08-28T13:51:39.733584Z",
     "shell.execute_reply.started": "2021-08-28T13:51:39.649475Z"
    }
   },
   "outputs": [],
   "source": [
    "# List of categorical columns\n",
    "object_cols = [col for col in features.columns if 'cat' in col]\n",
    "numerical_cols = [cname for cname in train.columns if \n",
    "                train[cname].dtype in ['int64', 'float64']]\n",
    "# ordinal-encode categorical columns\n",
    "X = features.copy()\n",
    "X_test = test.copy()\n",
    "#ordinal_encoder = OrdinalEncoder()\n",
    "#X[object_cols] = ordinal_encoder.fit_transform(features[object_cols])\n",
    "#X_test[object_cols] = ordinal_encoder.transform(test[object_cols])\n",
    "\n",
    "# Preview the ordinal-encoded features\n",
    "X.head()"
   ]
  },
  {
   "cell_type": "code",
   "execution_count": null,
   "metadata": {
    "execution": {
     "iopub.execute_input": "2021-08-28T13:51:39.73592Z",
     "iopub.status.busy": "2021-08-28T13:51:39.735648Z",
     "iopub.status.idle": "2021-08-28T13:51:39.744392Z",
     "shell.execute_reply": "2021-08-28T13:51:39.743415Z",
     "shell.execute_reply.started": "2021-08-28T13:51:39.735893Z"
    }
   },
   "outputs": [],
   "source": [
    "cat_selector = make_column_selector(dtype_include=object)\n",
    "num_selector = make_column_selector(dtype_include=np.number)\n",
    "cat_selector(X)"
   ]
  },
  {
   "cell_type": "code",
   "execution_count": null,
   "metadata": {
    "execution": {
     "iopub.execute_input": "2021-08-28T13:51:39.745979Z",
     "iopub.status.busy": "2021-08-28T13:51:39.745703Z",
     "iopub.status.idle": "2021-08-28T13:52:05.277985Z",
     "shell.execute_reply": "2021-08-28T13:52:05.276959Z",
     "shell.execute_reply.started": "2021-08-28T13:51:39.745944Z"
    }
   },
   "outputs": [],
   "source": [
    "num_rows, num_cols = 4,4\n",
    "f, axes = plt.subplots(nrows=num_rows, ncols=num_cols, figsize=(12, 12))\n",
    "f.suptitle('Distribution of Features', fontsize=16)\n",
    "\n",
    "for index, column in enumerate(train[numerical_cols].columns):\n",
    "    i,j = (index // num_cols, index % num_cols)\n",
    "    g = sns.kdeplot(train[column], color=\"m\", shade=True, label=\"%.2f\"%(train[column].skew()), ax=axes[i,j])\n",
    "    g = g.legend(loc=\"best\")\n",
    "\n",
    "f.delaxes(axes[3, 2])\n",
    "f.delaxes(axes[3, 3])\n",
    "plt.tight_layout()\n",
    "plt.show()"
   ]
  },
  {
   "cell_type": "code",
   "execution_count": null,
   "metadata": {
    "execution": {
     "iopub.execute_input": "2021-08-28T13:52:05.280085Z",
     "iopub.status.busy": "2021-08-28T13:52:05.279487Z",
     "iopub.status.idle": "2021-08-28T13:52:50.579152Z",
     "shell.execute_reply": "2021-08-28T13:52:50.578361Z",
     "shell.execute_reply.started": "2021-08-28T13:52:05.280025Z"
    }
   },
   "outputs": [],
   "source": [
    "sns.pairplot(train, kind=\"hist\", corner=True)"
   ]
  },
  {
   "cell_type": "code",
   "execution_count": null,
   "metadata": {
    "execution": {
     "iopub.execute_input": "2021-08-28T13:52:50.58063Z",
     "iopub.status.busy": "2021-08-28T13:52:50.580238Z",
     "iopub.status.idle": "2021-08-28T13:52:53.232829Z",
     "shell.execute_reply": "2021-08-28T13:52:53.231783Z",
     "shell.execute_reply.started": "2021-08-28T13:52:50.580602Z"
    }
   },
   "outputs": [],
   "source": [
    "f, axes = plt.subplots(nrows=3, ncols=1, figsize=(12, 12))\n",
    "\n",
    "f.suptitle('Target', fontsize=16)\n",
    "g = sns.kdeplot(train['target'], shade=True, label=\"%.2f\"%(train['target'].skew()), ax=axes[0])\n",
    "g = g.legend(loc=\"best\")\n",
    "stats.probplot(train['target'], plot=axes[1])\n",
    "sns.boxplot(x='target', data=train, orient='h', ax=axes[2]);\n",
    "\n",
    "plt.tight_layout()\n",
    "plt.show()"
   ]
  },
  {
   "cell_type": "code",
   "execution_count": null,
   "metadata": {
    "execution": {
     "iopub.execute_input": "2021-08-28T13:52:53.235119Z",
     "iopub.status.busy": "2021-08-28T13:52:53.23434Z",
     "iopub.status.idle": "2021-08-28T13:52:54.291491Z",
     "shell.execute_reply": "2021-08-28T13:52:54.290362Z",
     "shell.execute_reply.started": "2021-08-28T13:52:53.235066Z"
    }
   },
   "outputs": [],
   "source": [
    "corr = train[numerical_cols].corr().abs()\n",
    "mask = np.triu(np.ones_like(corr, dtype=np.bool))\n",
    "\n",
    "fig, ax = plt.subplots(figsize=(14, 14))\n",
    "\n",
    "# plot heatmap\n",
    "sns.heatmap(corr, mask=mask, annot=True, fmt=\".2f\", cmap='Blues_r',\n",
    "            cbar_kws={\"shrink\": .8}, vmin=0, vmax=1)\n",
    "# yticks\n",
    "plt.yticks(rotation=0)\n",
    "plt.show()"
   ]
  },
  {
   "cell_type": "code",
   "execution_count": null,
   "metadata": {
    "execution": {
     "iopub.execute_input": "2021-08-28T13:52:54.293566Z",
     "iopub.status.busy": "2021-08-28T13:52:54.293093Z",
     "iopub.status.idle": "2021-08-28T13:52:57.736553Z",
     "shell.execute_reply": "2021-08-28T13:52:57.735586Z",
     "shell.execute_reply.started": "2021-08-28T13:52:54.293518Z"
    }
   },
   "outputs": [],
   "source": [
    "num_rows, num_cols = 3,4\n",
    "f, axes = plt.subplots(nrows=num_rows, ncols=num_cols, figsize=(12, 12))\n",
    "#f.suptitle('Distribution of Features', fontsize=16)\n",
    "\n",
    "for index, column in enumerate(train[object_cols].columns):\n",
    "    i,j = (index // num_cols, index % num_cols)\n",
    "    sns.histplot(x=column, data=train, ax=axes[i,j])\n",
    "\n",
    "f.delaxes(axes[2, 2])\n",
    "f.delaxes(axes[2, 3])\n",
    "plt.tight_layout()\n",
    "plt.show()"
   ]
  },
  {
   "cell_type": "code",
   "execution_count": null,
   "metadata": {
    "execution": {
     "iopub.execute_input": "2021-08-28T13:52:57.738094Z",
     "iopub.status.busy": "2021-08-28T13:52:57.737804Z",
     "iopub.status.idle": "2021-08-28T13:54:34.014099Z",
     "shell.execute_reply": "2021-08-28T13:54:34.012748Z",
     "shell.execute_reply.started": "2021-08-28T13:52:57.738064Z"
    }
   },
   "outputs": [],
   "source": [
    "from umap import UMAP\n",
    "\n",
    "# Dimension Reduction\n",
    "train_sub = train.sample(30000)\n",
    "target = train_sub['target'] \n",
    "data_sub = train_sub.drop([col for col in train.columns if 'cat' in col], axis=1)\n",
    "\n",
    "umap = UMAP(random_state=0)\n",
    "train_umap = umap.fit_transform(data_sub, target)"
   ]
  },
  {
   "cell_type": "code",
   "execution_count": null,
   "metadata": {
    "execution": {
     "iopub.execute_input": "2021-08-28T13:54:34.016581Z",
     "iopub.status.busy": "2021-08-28T13:54:34.016257Z",
     "iopub.status.idle": "2021-08-28T13:54:34.432126Z",
     "shell.execute_reply": "2021-08-28T13:54:34.431428Z",
     "shell.execute_reply.started": "2021-08-28T13:54:34.016553Z"
    }
   },
   "outputs": [],
   "source": [
    "fig, ax = plt.subplots(2, 2, figsize=(12, 12))\n",
    "\n",
    "ax[0][0].scatter(train_umap[target==1][:,0], train_umap[target==1][:,1], c='#8abbd0', alpha=0.25, label='Target:1')\n",
    "ax[0][0].scatter(train_umap[target==0][:,0], train_umap[target==0][:,1], c='#4a4a4a', alpha=0.25, label='Target:0')\n",
    "\n",
    "\n",
    "ax[0][1].set_visible(False)\n",
    "\n",
    "ax[1][0].scatter(train_umap[target==1][:,0], train_umap[target==1][:,1], c='#8abbd0', alpha=0.25, label='Target:1')\n",
    "ax[1][1].scatter(train_umap[target==0][:,0], train_umap[target==0][:,1], c='#4a4a4a', alpha=0.25, label='Target:0')\n",
    "\n",
    "for i in range(2):\n",
    "    for j in range(2):\n",
    "        ax[i][j].set_xticks([])\n",
    "        ax[i][j].set_yticks([])\n",
    "        for s in [\"top\",\"right\",\"left\", 'bottom']:\n",
    "            ax[i][j].spines[s].set_visible(False)\n",
    "\n",
    "        ax[i][j].legend()\n",
    "\n",
    "# Text Part\n",
    "fig.text(0.97, 1, '[UMAP] Embedding Space', fontweight='bold', fontfamily='serif', fontsize=20, ha='right')   \n",
    "\n",
    "fig.text(0.97, 0.94, '''\n",
    "In dimension reduction, \n",
    "you can see that the data with target=0 are gathered in the center.\n",
    "Performance can be expected when used as a feature.\n",
    "\n",
    "''', \n",
    "         fontweight='light', fontfamily='serif', fontsize=12, va='top', ha='right')           \n",
    "        \n",
    "plt.tight_layout()\n",
    "plt.show()"
   ]
  },
  {
   "cell_type": "code",
   "execution_count": null,
   "metadata": {
    "execution": {
     "iopub.execute_input": "2021-08-28T13:54:34.433581Z",
     "iopub.status.busy": "2021-08-28T13:54:34.433147Z",
     "iopub.status.idle": "2021-08-28T13:54:50.714704Z",
     "shell.execute_reply": "2021-08-28T13:54:50.712788Z",
     "shell.execute_reply.started": "2021-08-28T13:54:34.433553Z"
    }
   },
   "outputs": [],
   "source": [
    "try:\n",
    "    import mymodule\n",
    "except ImportError as e:\n",
    "    pass  # module doesn't exist, deal with it.\n",
    "! pip install xlrd\n",
    "! pip install autoviz"
   ]
  },
  {
   "cell_type": "code",
   "execution_count": null,
   "metadata": {
    "execution": {
     "iopub.execute_input": "2021-08-28T13:54:50.721526Z",
     "iopub.status.busy": "2021-08-28T13:54:50.721121Z",
     "iopub.status.idle": "2021-08-28T14:00:22.71184Z",
     "shell.execute_reply": "2021-08-28T14:00:22.710547Z",
     "shell.execute_reply.started": "2021-08-28T13:54:50.721482Z"
    }
   },
   "outputs": [],
   "source": [
    "from autoviz.AutoViz_Class import AutoViz_Class\n",
    "\n",
    "AV = AutoViz_Class()\n",
    "dftc = AV.AutoViz(\n",
    "    filename='', \n",
    "    sep='' , \n",
    "    depVar='target', \n",
    "    dfte=train, \n",
    "    header=0, \n",
    "    verbose=2, \n",
    "    lowess=False, \n",
    "    chart_format='png', \n",
    "    max_rows_analyzed=300000, \n",
    "    max_cols_analyzed=30\n",
    ")"
   ]
  },
  {
   "cell_type": "code",
   "execution_count": null,
   "metadata": {
    "execution": {
     "iopub.execute_input": "2021-08-28T14:00:22.714401Z",
     "iopub.status.busy": "2021-08-28T14:00:22.714008Z",
     "iopub.status.idle": "2021-08-28T14:00:22.726028Z",
     "shell.execute_reply": "2021-08-28T14:00:22.724842Z",
     "shell.execute_reply.started": "2021-08-28T14:00:22.714362Z"
    }
   },
   "outputs": [],
   "source": [
    "cat_tree_processor = OrdinalEncoder()\n",
    "num_tree_processor = SimpleImputer(strategy=\"mean\", add_indicator=True)\n",
    "\n",
    "tree_preprocessor = make_column_transformer(\n",
    "    (num_tree_processor, num_selector), (cat_tree_processor, cat_selector))\n",
    "tree_preprocessor"
   ]
  },
  {
   "cell_type": "code",
   "execution_count": null,
   "metadata": {
    "execution": {
     "iopub.execute_input": "2021-08-28T14:00:22.727715Z",
     "iopub.status.busy": "2021-08-28T14:00:22.727416Z",
     "iopub.status.idle": "2021-08-28T14:00:22.738368Z",
     "shell.execute_reply": "2021-08-28T14:00:22.737467Z",
     "shell.execute_reply.started": "2021-08-28T14:00:22.727686Z"
    }
   },
   "outputs": [],
   "source": [
    "N_FEATURES_OPTIONS = 2"
   ]
  },
  {
   "cell_type": "code",
   "execution_count": null,
   "metadata": {
    "execution": {
     "iopub.execute_input": "2021-08-28T14:00:22.739692Z",
     "iopub.status.busy": "2021-08-28T14:00:22.739391Z",
     "iopub.status.idle": "2021-08-28T14:00:22.760759Z",
     "shell.execute_reply": "2021-08-28T14:00:22.759921Z",
     "shell.execute_reply.started": "2021-08-28T14:00:22.739663Z"
    }
   },
   "outputs": [],
   "source": [
    "cv = KFold(10, shuffle  = True, random_state = RANDOM_STATE)"
   ]
  },
  {
   "cell_type": "code",
   "execution_count": null,
   "metadata": {
    "execution": {
     "iopub.execute_input": "2021-08-28T14:00:22.761974Z",
     "iopub.status.busy": "2021-08-28T14:00:22.761688Z",
     "iopub.status.idle": "2021-08-28T14:00:22.932994Z",
     "shell.execute_reply": "2021-08-28T14:00:22.93139Z",
     "shell.execute_reply.started": "2021-08-28T14:00:22.761946Z"
    }
   },
   "outputs": [],
   "source": [
    "X_train, X_valid, y_train, y_valid = train_test_split(X, y, random_state = RANDOM_STATE)"
   ]
  },
  {
   "cell_type": "code",
   "execution_count": null,
   "metadata": {
    "execution": {
     "iopub.execute_input": "2021-08-28T14:00:22.934608Z",
     "iopub.status.busy": "2021-08-28T14:00:22.934323Z",
     "iopub.status.idle": "2021-08-28T14:00:23.109432Z",
     "shell.execute_reply": "2021-08-28T14:00:23.108146Z",
     "shell.execute_reply.started": "2021-08-28T14:00:22.934582Z"
    }
   },
   "outputs": [],
   "source": [
    "X_train"
   ]
  },
  {
   "cell_type": "code",
   "execution_count": null,
   "metadata": {
    "execution": {
     "iopub.execute_input": "2021-08-28T14:00:23.111261Z",
     "iopub.status.busy": "2021-08-28T14:00:23.110892Z",
     "iopub.status.idle": "2021-08-28T14:00:23.370306Z",
     "shell.execute_reply": "2021-08-28T14:00:23.369222Z",
     "shell.execute_reply.started": "2021-08-28T14:00:23.111226Z"
    }
   },
   "outputs": [],
   "source": [
    "Xc = X_train.copy()\n",
    "yc =y_train.copy()\n",
    "\n",
    "# Label encoding for categoricals\n",
    "for colname in Xc.select_dtypes(\"object\"):\n",
    "    Xc[colname], _ = Xc[colname].factorize()\n",
    "\n",
    "# All discrete features should now have integer dtypes (double-check this before using MI!)\n",
    "object_cols = Xc.dtypes == int"
   ]
  },
  {
   "cell_type": "code",
   "execution_count": null,
   "metadata": {
    "execution": {
     "iopub.execute_input": "2021-08-28T14:00:23.372213Z",
     "iopub.status.busy": "2021-08-28T14:00:23.371887Z",
     "iopub.status.idle": "2021-08-28T14:00:23.398806Z",
     "shell.execute_reply": "2021-08-28T14:00:23.397746Z",
     "shell.execute_reply.started": "2021-08-28T14:00:23.372167Z"
    }
   },
   "outputs": [],
   "source": [
    "Xc.info()"
   ]
  },
  {
   "cell_type": "code",
   "execution_count": null,
   "metadata": {
    "execution": {
     "iopub.execute_input": "2021-08-28T14:00:23.40234Z",
     "iopub.status.busy": "2021-08-28T14:00:23.402033Z",
     "iopub.status.idle": "2021-08-28T14:00:23.424334Z",
     "shell.execute_reply": "2021-08-28T14:00:23.423268Z",
     "shell.execute_reply.started": "2021-08-28T14:00:23.402312Z"
    }
   },
   "outputs": [],
   "source": [
    "type(Xc['cat0'][2])"
   ]
  },
  {
   "cell_type": "code",
   "execution_count": null,
   "metadata": {
    "execution": {
     "iopub.execute_input": "2021-08-28T14:00:23.425931Z",
     "iopub.status.busy": "2021-08-28T14:00:23.425572Z",
     "iopub.status.idle": "2021-08-28T14:00:23.435079Z",
     "shell.execute_reply": "2021-08-28T14:00:23.433817Z",
     "shell.execute_reply.started": "2021-08-28T14:00:23.425881Z"
    }
   },
   "outputs": [],
   "source": [
    "from sklearn.feature_selection import mutual_info_regression\n",
    "def make_mi_scores(X, y):\n",
    "    X = X.copy()\n",
    "    for colname in X.select_dtypes([\"object\", \"category\"]):\n",
    "        X[colname], _ = X[colname].factorize()\n",
    "    # All discrete features should now have integer dtypes\n",
    "    discrete_features = [pd.api.types.is_integer_dtype(t) for t in X.dtypes]\n",
    "    mi_scores = mutual_info_regression(X, y, discrete_features=discrete_features, random_state=0)\n",
    "    mi_scores = pd.Series(mi_scores, name=\"MI Scores\", index=X.columns)\n",
    "    mi_scores = mi_scores.sort_values(ascending=False)\n",
    "    return mi_scores\n",
    "\n",
    "\n",
    "def plot_mi_scores(scores):\n",
    "    scores = scores.sort_values(ascending=True)\n",
    "    width = np.arange(len(scores))\n",
    "    ticks = list(scores.index)\n",
    "    color = np.array([\"C0\"] * scores.shape[0])\n",
    "    # Color red for probes\n",
    "    idx = [i for i, col in enumerate(scores.index)\n",
    "           if col.startswith(\"PROBE\")]\n",
    "    color[idx] = \"C3\"\n",
    "    # Create plot\n",
    "    plt.barh(width, scores, color=color)\n",
    "    plt.yticks(width, ticks)\n",
    "    plt.title(\"Mutual Information Scores\")"
   ]
  },
  {
   "cell_type": "code",
   "execution_count": null,
   "metadata": {
    "execution": {
     "iopub.execute_input": "2021-08-28T14:00:23.437278Z",
     "iopub.status.busy": "2021-08-28T14:00:23.436787Z",
     "iopub.status.idle": "2021-08-28T14:02:55.878401Z",
     "shell.execute_reply": "2021-08-28T14:02:55.877389Z",
     "shell.execute_reply.started": "2021-08-28T14:00:23.437229Z"
    }
   },
   "outputs": [],
   "source": [
    "mi_scores = make_mi_scores(X_train, y_train)"
   ]
  },
  {
   "cell_type": "code",
   "execution_count": null,
   "metadata": {
    "execution": {
     "iopub.execute_input": "2021-08-28T14:02:55.88012Z",
     "iopub.status.busy": "2021-08-28T14:02:55.879819Z",
     "iopub.status.idle": "2021-08-28T14:02:56.200818Z",
     "shell.execute_reply": "2021-08-28T14:02:56.199692Z",
     "shell.execute_reply.started": "2021-08-28T14:02:55.88009Z"
    }
   },
   "outputs": [],
   "source": [
    "print(mi_scores.head(20))\n",
    "# print(mi_scores.tail(20))  # uncomment to see bottom 20\n",
    "\n",
    "plt.figure(dpi=100, figsize=(8, 5))\n",
    "plot_mi_scores(mi_scores.head(20))\n",
    "# plot_mi_scores(mi_scores.tail(20))  # uncomment to see bottom 20"
   ]
  },
  {
   "cell_type": "code",
   "execution_count": null,
   "metadata": {
    "execution": {
     "iopub.execute_input": "2021-08-28T14:02:56.202839Z",
     "iopub.status.busy": "2021-08-28T14:02:56.202394Z",
     "iopub.status.idle": "2021-08-28T14:02:56.211522Z",
     "shell.execute_reply": "2021-08-28T14:02:56.210737Z",
     "shell.execute_reply.started": "2021-08-28T14:02:56.202791Z"
    }
   },
   "outputs": [],
   "source": [
    "def plot_variance(pca, width=8, dpi=100):\n",
    "    # Create figure\n",
    "    fig, axs = plt.subplots(1, 2)\n",
    "    n = pca.n_components_\n",
    "    grid = np.arange(1, n + 1)\n",
    "    # Explained variance\n",
    "    evr = pca.explained_variance_ratio_\n",
    "    axs[0].bar(grid, evr)\n",
    "    axs[0].set(\n",
    "        xlabel=\"Component\", title=\"% Explained Variance\", ylim=(0.0, 1.0)\n",
    "    )\n",
    "    # Cumulative Variance\n",
    "    cv = np.cumsum(evr)\n",
    "    axs[1].plot(np.r_[0, grid], np.r_[0, cv], \"o-\")\n",
    "    axs[1].set(\n",
    "        xlabel=\"Component\", title=\"% Cumulative Variance\", ylim=(0.0, 1.0)\n",
    "    )\n",
    "    # Set up figure\n",
    "    fig.set(figwidth=8, dpi=100)\n",
    "    return axs\n",
    "\n",
    "def make_mi_scores(X, y, discrete_features):\n",
    "    mi_scores = mutual_info_regression(X, y, discrete_features=discrete_features)\n",
    "    mi_scores = pd.Series(mi_scores, name=\"MI Scores\", index=X.columns)\n",
    "    mi_scores = mi_scores.sort_values(ascending=False)\n",
    "    return mi_scores"
   ]
  },
  {
   "cell_type": "code",
   "execution_count": null,
   "metadata": {
    "execution": {
     "iopub.execute_input": "2021-08-28T14:02:56.212938Z",
     "iopub.status.busy": "2021-08-28T14:02:56.212557Z",
     "iopub.status.idle": "2021-08-28T14:02:57.011614Z",
     "shell.execute_reply": "2021-08-28T14:02:57.010341Z",
     "shell.execute_reply.started": "2021-08-28T14:02:56.212911Z"
    }
   },
   "outputs": [],
   "source": [
    "# Standardize\n",
    "Xc_scaled = (Xc - Xc.mean(axis=0)) / Xc.std(axis=0)\n",
    "\n",
    "from sklearn.decomposition import PCA\n",
    "\n",
    "# Create principal components\n",
    "pca = PCA()\n",
    "Xc_pca = pca.fit_transform(Xc_scaled)\n",
    "\n",
    "# Convert to dataframe\n",
    "component_names = [f\"PC{i+1}\" for i in range(Xc_pca.shape[1])]\n",
    "Xc_pca = pd.DataFrame(Xc_pca, columns=component_names)\n",
    "\n",
    "Xc_pca.head()\n",
    "\n",
    "\n",
    "loadings = pd.DataFrame(\n",
    "    pca.components_.T,  # transpose the matrix of loadings\n",
    "    columns=component_names,  # so the columns are the principal components\n",
    "    index=Xc.columns,  # and the rows are the original features\n",
    ")\n",
    "\n",
    "plot_variance(pca);"
   ]
  },
  {
   "cell_type": "markdown",
   "metadata": {},
   "source": [
    "# Step 4: Train a model\n",
    "\n",
    "Now that the data is prepared, the next step is to train a model.  \n",
    "\n",
    "If you took the **[Intro to Machine Learning](https://www.kaggle.com/learn/intro-to-machine-learning)** courses, then you learned about **[Random Forests](https://www.kaggle.com/dansbecker/random-forests)**.  In the code cell below, we fit a random forest model to the data."
   ]
  },
  {
   "cell_type": "code",
   "execution_count": null,
   "metadata": {
    "execution": {
     "iopub.execute_input": "2021-08-28T14:02:57.013548Z",
     "iopub.status.busy": "2021-08-28T14:02:57.013123Z",
     "iopub.status.idle": "2021-08-28T14:02:57.020765Z",
     "shell.execute_reply": "2021-08-28T14:02:57.019718Z",
     "shell.execute_reply.started": "2021-08-28T14:02:57.013496Z"
    }
   },
   "outputs": [],
   "source": [
    "from sklearn.utils.multiclass import type_of_target\n",
    "type_of_target(y_train)"
   ]
  },
  {
   "cell_type": "code",
   "execution_count": null,
   "metadata": {},
   "outputs": [],
   "source": [
    "cv = KFold(10, shuffle  = True, random_state = RANDOM_STATE)"
   ]
  },
  {
   "cell_type": "code",
   "execution_count": null,
   "metadata": {
    "execution": {
     "iopub.execute_input": "2021-08-28T14:02:57.022026Z",
     "iopub.status.busy": "2021-08-28T14:02:57.02177Z",
     "iopub.status.idle": "2021-08-28T14:02:57.049254Z",
     "shell.execute_reply": "2021-08-28T14:02:57.047982Z",
     "shell.execute_reply.started": "2021-08-28T14:02:57.022001Z"
    }
   },
   "outputs": [],
   "source": [
    "rf_pipeline = make_pipeline(\n",
    "    tree_preprocessor,  RandomForestRegressor(random_state = RANDOM_STATE ))\n",
    "rf_pipeline"
   ]
  },
  {
   "cell_type": "code",
   "execution_count": null,
   "metadata": {
    "execution": {
     "iopub.execute_input": "2021-08-28T14:02:57.051012Z",
     "iopub.status.busy": "2021-08-28T14:02:57.050605Z",
     "iopub.status.idle": "2021-08-28T14:02:57.069895Z",
     "shell.execute_reply": "2021-08-28T14:02:57.068949Z",
     "shell.execute_reply.started": "2021-08-28T14:02:57.050967Z"
    }
   },
   "outputs": [],
   "source": [
    "from sklearn.preprocessing import OneHotEncoder\n",
    "from sklearn.preprocessing import StandardScaler\n",
    "\n",
    "cat_linear_processor = OneHotEncoder(handle_unknown=\"ignore\")\n",
    "num_linear_processor = make_pipeline(\n",
    "    StandardScaler(), SimpleImputer(strategy=\"mean\", add_indicator=True))\n",
    "\n",
    "linear_preprocessor = make_column_transformer(\n",
    "    (num_linear_processor, num_selector), (cat_linear_processor, cat_selector))\n",
    "linear_preprocessor"
   ]
  },
  {
   "cell_type": "code",
   "execution_count": null,
   "metadata": {
    "execution": {
     "iopub.execute_input": "2021-08-28T14:02:57.071453Z",
     "iopub.status.busy": "2021-08-28T14:02:57.07103Z",
     "iopub.status.idle": "2021-08-28T14:02:57.132123Z",
     "shell.execute_reply": "2021-08-28T14:02:57.131228Z",
     "shell.execute_reply.started": "2021-08-28T14:02:57.071423Z"
    }
   },
   "outputs": [],
   "source": [
    "from sklearn.linear_model import LassoCV\n",
    "\n",
    "lasso_pipeline = make_pipeline(linear_preprocessor, LassoCV(cv = cv,random_state = RANDOM_STATE))\n",
    "lasso_pipeline"
   ]
  },
  {
   "cell_type": "code",
   "execution_count": null,
   "metadata": {
    "execution": {
     "iopub.execute_input": "2021-08-28T14:02:57.133783Z",
     "iopub.status.busy": "2021-08-28T14:02:57.133502Z",
     "iopub.status.idle": "2021-08-28T14:02:57.153767Z",
     "shell.execute_reply": "2021-08-28T14:02:57.152801Z",
     "shell.execute_reply.started": "2021-08-28T14:02:57.133756Z"
    }
   },
   "outputs": [],
   "source": [
    "from sklearn.experimental import enable_hist_gradient_boosting  # noqa\n",
    "from sklearn.ensemble import HistGradientBoostingRegressor\n",
    "\n",
    "gbdt_pipeline = make_pipeline(\n",
    "    tree_preprocessor,  HistGradientBoostingRegressor(random_state = RANDOM_STATE))\n",
    "gbdt_pipeline"
   ]
  },
  {
   "cell_type": "code",
   "execution_count": null,
   "metadata": {
    "execution": {
     "iopub.execute_input": "2021-08-28T14:02:57.157145Z",
     "iopub.status.busy": "2021-08-28T14:02:57.156781Z",
     "iopub.status.idle": "2021-08-28T14:02:57.581299Z",
     "shell.execute_reply": "2021-08-28T14:02:57.580273Z",
     "shell.execute_reply.started": "2021-08-28T14:02:57.157113Z"
    }
   },
   "outputs": [],
   "source": [
    "from sklearn.ensemble import StackingRegressor\n",
    "from sklearn.linear_model import RidgeCV\n",
    "\n",
    "estimators = [('Random_Forest', rf_pipeline),\n",
    "              ('Lasso', lasso_pipeline),\n",
    "              ('Gradient_Boosting', gbdt_pipeline)]\n",
    "\n",
    "stacking_regressor = StackingRegressor(\n",
    "    estimators = estimators,cv = cv, final_estimator = RidgeCV(cv = cv))\n",
    "stacking_regressor"
   ]
  },
  {
   "cell_type": "code",
   "execution_count": null,
   "metadata": {
    "execution": {
     "iopub.execute_input": "2021-08-28T14:02:57.582872Z",
     "iopub.status.busy": "2021-08-28T14:02:57.582608Z",
     "iopub.status.idle": "2021-08-28T14:02:57.589705Z",
     "shell.execute_reply": "2021-08-28T14:02:57.588774Z",
     "shell.execute_reply.started": "2021-08-28T14:02:57.582847Z"
    }
   },
   "outputs": [],
   "source": [
    "stacking_regressor.get_params().keys()"
   ]
  },
  {
   "cell_type": "code",
   "execution_count": null,
   "metadata": {
    "execution": {
     "iopub.execute_input": "2021-08-28T14:02:57.5914Z",
     "iopub.status.busy": "2021-08-28T14:02:57.591008Z",
     "iopub.status.idle": "2021-08-28T14:02:57.601923Z",
     "shell.execute_reply": "2021-08-28T14:02:57.600656Z",
     "shell.execute_reply.started": "2021-08-28T14:02:57.591366Z"
    }
   },
   "outputs": [],
   "source": [
    "'''param_grid = { \n",
    "   \n",
    "    'Random_Forest__pca__n_components': N_FEATURES_OPTIONS,   \n",
    "    \n",
    "    'Gradient_Boosting__pca__n_components': N_FEATURES_OPTIONS, \n",
    "    \n",
    "}'''"
   ]
  },
  {
   "cell_type": "code",
   "execution_count": null,
   "metadata": {
    "execution": {
     "iopub.execute_input": "2021-08-28T14:02:57.603601Z",
     "iopub.status.busy": "2021-08-28T14:02:57.603313Z"
    }
   },
   "outputs": [],
   "source": [
    "'''model_cv = GridSearchCV(estimator = stacking_regressor, param_grid = param_grid, cv = cv, refit = True, n_jobs = -1)\n",
    "model_cv.fit(X_train, y_train)\n",
    "print(model_cv.best_params_)\n",
    "model_cv.predict(X_valid)\n",
    "print(model_cv.score(X_valid, y_valid))\n",
    "predictions = model_cv.predict(X_test)'''\n"
   ]
  },
  {
   "cell_type": "code",
   "execution_count": null,
   "metadata": {},
   "outputs": [],
   "source": [
    "stacking_regressor.fit(X_train, y_train)\n",
    "stacking_regressor.predict(X_valid)\n",
    "print(stacking_regressor.score(X_valid, y_valid))\n",
    "predictions = stacking_regressor.predict(X_test)"
   ]
  },
  {
   "cell_type": "markdown",
   "metadata": {},
   "source": [
    "In the code cell above, we set `squared=False` to get the root mean squared error (RMSE) on the validation data.\n",
    "\n",
    "# Step 5: Submit to the competition\n",
    "\n",
    "We'll begin by using the trained model to generate predictions, which we'll save to a CSV file."
   ]
  },
  {
   "cell_type": "code",
   "execution_count": null,
   "metadata": {},
   "outputs": [],
   "source": [
    "# Use the model to generate predictions\n",
    "#predictions = model.predict(X_test)\n",
    "#predictions=y_pred\n",
    "# Save the predictions to a CSV file\n",
    "output = pd.DataFrame({'Id': X_test.index,\n",
    "                       'target': predictions})\n",
    "output.to_csv('submission.csv', index=False)"
   ]
  },
  {
   "cell_type": "markdown",
   "metadata": {},
   "source": [
    "Once you have run the code cell above, follow the instructions below to submit to the competition:\n",
    "1. Begin by clicking on the **Save Version** button in the top right corner of the window.  This will generate a pop-up window.  \n",
    "2. Ensure that the **Save and Run All** option is selected, and then click on the **Save** button.\n",
    "3. This generates a window in the bottom left corner of the notebook.  After it has finished running, click on the number to the right of the **Save Version** button.  This pulls up a list of versions on the right of the screen.  Click on the ellipsis **(...)** to the right of the most recent version, and select **Open in Viewer**.  This brings you into view mode of the same page. You will need to scroll down to get back to these instructions.\n",
    "4. Click on the **Output** tab on the right of the screen.  Then, click on the file you would like to submit, and click on the **Submit** button to submit your results to the leaderboard.\n",
    "\n",
    "You have now successfully submitted to the competition!\n",
    "\n",
    "If you want to keep working to improve your performance, select the **Edit** button in the top right of the screen. Then you can change your code and repeat the process. There's a lot of room to improve, and you will climb up the leaderboard as you work"
   ]
  },
  {
   "cell_type": "markdown",
   "metadata": {},
   "source": [
    "# Step 6: Keep Learning!\n",
    "\n",
    "If you're not sure what to do next, you can begin by trying out more model types!\n",
    "1. If you took the **[Intermediate Machine Learning](https://www.kaggle.com/learn/intermediate-machine-learning)** course, then you learned about **[XGBoost](https://www.kaggle.com/alexisbcook/xgboost)**.  Try training a model with XGBoost, to improve over the performance you got here.\n",
    "\n",
    "2. Take the time to learn about **Light GBM (LGBM)**, which is similar to XGBoost, since they both use gradient boosting to iteratively add decision trees to an ensemble.  In case you're not sure how to get started, **[here's a notebook](https://www.kaggle.com/svyatoslavsokolov/tps-feb-2021-lgbm-simple-version)** that trains a model on a similar dataset."
   ]
  }
 ],
 "metadata": {
  "kernelspec": {
   "display_name": "Python 3 (ipykernel)",
   "language": "python",
   "name": "python3"
  },
  "language_info": {
   "codemirror_mode": {
    "name": "ipython",
    "version": 3
   },
   "file_extension": ".py",
   "mimetype": "text/x-python",
   "name": "python",
   "nbconvert_exporter": "python",
   "pygments_lexer": "ipython3",
   "version": "3.7.11"
  }
 },
 "nbformat": 4,
 "nbformat_minor": 4
}
