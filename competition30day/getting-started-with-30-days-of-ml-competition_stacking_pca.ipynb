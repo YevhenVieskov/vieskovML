{
 "cells": [
  {
   "cell_type": "markdown",
   "metadata": {},
   "source": [
    "Welcome to the **[30 Days of ML competition](https://www.kaggle.com/c/30-days-of-ml/overview)**!  In this notebook, you'll learn how to make your first submission.\n",
    "\n",
    "Before getting started, make your own editable copy of this notebook by clicking on the **Copy and Edit** button.\n",
    "\n",
    "# Step 1: Import helpful libraries\n",
    "\n",
    "We begin by importing the libraries we'll need.  Some of them will be familiar from the **[Intro to Machine Learning](https://www.kaggle.com/learn/intro-to-machine-learning)** course and the **[Intermediate Machine Learning](https://www.kaggle.com/learn/intermediate-machine-learning)** course."
   ]
  },
  {
   "cell_type": "code",
   "execution_count": 1,
   "metadata": {
    "execution": {
     "iopub.execute_input": "2021-08-27T17:44:11.250558Z",
     "iopub.status.busy": "2021-08-27T17:44:11.250181Z",
     "iopub.status.idle": "2021-08-27T17:44:11.270711Z",
     "shell.execute_reply": "2021-08-27T17:44:11.269419Z",
     "shell.execute_reply.started": "2021-08-27T17:44:11.250527Z"
    }
   },
   "outputs": [],
   "source": [
    "# Familiar imports\n",
    "import numpy as np\n",
    "import pandas as pd\n",
    "from scipy import stats\n",
    "\n",
    "# For ordinal encoding categorical variables, splitting data\n",
    "from sklearn.preprocessing import OrdinalEncoder\n",
    "from sklearn.model_selection import train_test_split\n",
    "\n",
    "# For training random forest model\n",
    "from sklearn.ensemble import RandomForestRegressor\n",
    "from sklearn.metrics import mean_squared_error\n",
    "\n",
    "pd.plotting.register_matplotlib_converters()\n",
    "import matplotlib.pyplot as plt\n",
    "%matplotlib inline\n",
    "import seaborn as sns\n",
    "sns.set_style('darkgrid')\n",
    "\n",
    "import datetime as dt\n",
    "from typing import Tuple, List, Dict\n",
    "#import plotly.graph_objects as go\n",
    "#from plotly.subplots import make_subplots\n",
    "#import plotly.express as px\n",
    "#import plotly.offline\n",
    "\n",
    "\n",
    "\n",
    "from sklearn.impute import SimpleImputer\n",
    "from sklearn.preprocessing import OneHotEncoder, LabelEncoder\n",
    "from sklearn.preprocessing import StandardScaler \n",
    "from sklearn.preprocessing import MinMaxScaler \n",
    "from sklearn.preprocessing import MaxAbsScaler\n",
    "from sklearn.compose import ColumnTransformer\n",
    "from sklearn.pipeline import Pipeline\n",
    "from sklearn.model_selection import cross_val_score\n",
    "from sklearn.decomposition import TruncatedSVD, NMF, PCA\n",
    "\n",
    "from sklearn.metrics import accuracy_score\n",
    "from sklearn.model_selection import GridSearchCV, StratifiedKFold, KFold\n",
    "from sklearn.feature_selection import SelectKBest, mutual_info_classif, SelectFromModel, chi2\n",
    "from sklearn.utils import shuffle\n",
    "from sklearn.compose import make_column_selector\n",
    "from sklearn.compose import make_column_transformer\n",
    "from sklearn.impute import SimpleImputer\n",
    "#from sklearn.pipeline import make_pipeline\n",
    "from sklearn.preprocessing import OrdinalEncoder\n",
    "from sklearn.preprocessing import OneHotEncoder\n",
    "from sklearn.preprocessing import StandardScaler\n",
    "from sklearn.linear_model import LassoCV\n",
    "from sklearn.experimental import enable_hist_gradient_boosting  # noqa\n",
    "from sklearn.ensemble import HistGradientBoostingRegressor\n",
    "from sklearn.ensemble import StackingRegressor\n",
    "from sklearn.linear_model import RidgeCV\n",
    "from sklearn.pipeline import make_pipeline\n",
    "RANDOM_STATE = 42"
   ]
  },
  {
   "cell_type": "markdown",
   "metadata": {},
   "source": [
    "# Step 2: Load the data\n",
    "\n",
    "Next, we'll load the training and test data.  \n",
    "\n",
    "We set `index_col=0` in the code cell below to use the `id` column to index the DataFrame.  (*If you're not sure how this works, try temporarily removing `index_col=0` and see how it changes the result.*)"
   ]
  },
  {
   "cell_type": "code",
   "execution_count": 2,
   "metadata": {
    "execution": {
     "iopub.execute_input": "2021-08-27T17:44:11.273351Z",
     "iopub.status.busy": "2021-08-27T17:44:11.272881Z",
     "iopub.status.idle": "2021-08-27T17:44:13.959545Z",
     "shell.execute_reply": "2021-08-27T17:44:13.958251Z",
     "shell.execute_reply.started": "2021-08-27T17:44:11.273301Z"
    }
   },
   "outputs": [
    {
     "data": {
      "text/html": [
       "<div>\n",
       "<style scoped>\n",
       "    .dataframe tbody tr th:only-of-type {\n",
       "        vertical-align: middle;\n",
       "    }\n",
       "\n",
       "    .dataframe tbody tr th {\n",
       "        vertical-align: top;\n",
       "    }\n",
       "\n",
       "    .dataframe thead th {\n",
       "        text-align: right;\n",
       "    }\n",
       "</style>\n",
       "<table border=\"1\" class=\"dataframe\">\n",
       "  <thead>\n",
       "    <tr style=\"text-align: right;\">\n",
       "      <th></th>\n",
       "      <th>cat0</th>\n",
       "      <th>cat1</th>\n",
       "      <th>cat2</th>\n",
       "      <th>cat3</th>\n",
       "      <th>cat4</th>\n",
       "      <th>cat5</th>\n",
       "      <th>cat6</th>\n",
       "      <th>cat7</th>\n",
       "      <th>cat8</th>\n",
       "      <th>cat9</th>\n",
       "      <th>...</th>\n",
       "      <th>cont5</th>\n",
       "      <th>cont6</th>\n",
       "      <th>cont7</th>\n",
       "      <th>cont8</th>\n",
       "      <th>cont9</th>\n",
       "      <th>cont10</th>\n",
       "      <th>cont11</th>\n",
       "      <th>cont12</th>\n",
       "      <th>cont13</th>\n",
       "      <th>target</th>\n",
       "    </tr>\n",
       "    <tr>\n",
       "      <th>id</th>\n",
       "      <th></th>\n",
       "      <th></th>\n",
       "      <th></th>\n",
       "      <th></th>\n",
       "      <th></th>\n",
       "      <th></th>\n",
       "      <th></th>\n",
       "      <th></th>\n",
       "      <th></th>\n",
       "      <th></th>\n",
       "      <th></th>\n",
       "      <th></th>\n",
       "      <th></th>\n",
       "      <th></th>\n",
       "      <th></th>\n",
       "      <th></th>\n",
       "      <th></th>\n",
       "      <th></th>\n",
       "      <th></th>\n",
       "      <th></th>\n",
       "      <th></th>\n",
       "    </tr>\n",
       "  </thead>\n",
       "  <tbody>\n",
       "    <tr>\n",
       "      <th>1</th>\n",
       "      <td>B</td>\n",
       "      <td>B</td>\n",
       "      <td>B</td>\n",
       "      <td>C</td>\n",
       "      <td>B</td>\n",
       "      <td>B</td>\n",
       "      <td>A</td>\n",
       "      <td>E</td>\n",
       "      <td>C</td>\n",
       "      <td>N</td>\n",
       "      <td>...</td>\n",
       "      <td>0.400361</td>\n",
       "      <td>0.160266</td>\n",
       "      <td>0.310921</td>\n",
       "      <td>0.389470</td>\n",
       "      <td>0.267559</td>\n",
       "      <td>0.237281</td>\n",
       "      <td>0.377873</td>\n",
       "      <td>0.322401</td>\n",
       "      <td>0.869850</td>\n",
       "      <td>8.113634</td>\n",
       "    </tr>\n",
       "    <tr>\n",
       "      <th>2</th>\n",
       "      <td>B</td>\n",
       "      <td>B</td>\n",
       "      <td>A</td>\n",
       "      <td>A</td>\n",
       "      <td>B</td>\n",
       "      <td>D</td>\n",
       "      <td>A</td>\n",
       "      <td>F</td>\n",
       "      <td>A</td>\n",
       "      <td>O</td>\n",
       "      <td>...</td>\n",
       "      <td>0.533087</td>\n",
       "      <td>0.558922</td>\n",
       "      <td>0.516294</td>\n",
       "      <td>0.594928</td>\n",
       "      <td>0.341439</td>\n",
       "      <td>0.906013</td>\n",
       "      <td>0.921701</td>\n",
       "      <td>0.261975</td>\n",
       "      <td>0.465083</td>\n",
       "      <td>8.481233</td>\n",
       "    </tr>\n",
       "    <tr>\n",
       "      <th>3</th>\n",
       "      <td>A</td>\n",
       "      <td>A</td>\n",
       "      <td>A</td>\n",
       "      <td>C</td>\n",
       "      <td>B</td>\n",
       "      <td>D</td>\n",
       "      <td>A</td>\n",
       "      <td>D</td>\n",
       "      <td>A</td>\n",
       "      <td>F</td>\n",
       "      <td>...</td>\n",
       "      <td>0.650609</td>\n",
       "      <td>0.375348</td>\n",
       "      <td>0.902567</td>\n",
       "      <td>0.555205</td>\n",
       "      <td>0.843531</td>\n",
       "      <td>0.748809</td>\n",
       "      <td>0.620126</td>\n",
       "      <td>0.541474</td>\n",
       "      <td>0.763846</td>\n",
       "      <td>8.364351</td>\n",
       "    </tr>\n",
       "    <tr>\n",
       "      <th>4</th>\n",
       "      <td>B</td>\n",
       "      <td>B</td>\n",
       "      <td>A</td>\n",
       "      <td>C</td>\n",
       "      <td>B</td>\n",
       "      <td>D</td>\n",
       "      <td>A</td>\n",
       "      <td>E</td>\n",
       "      <td>C</td>\n",
       "      <td>K</td>\n",
       "      <td>...</td>\n",
       "      <td>0.668980</td>\n",
       "      <td>0.239061</td>\n",
       "      <td>0.732948</td>\n",
       "      <td>0.679618</td>\n",
       "      <td>0.574844</td>\n",
       "      <td>0.346010</td>\n",
       "      <td>0.714610</td>\n",
       "      <td>0.540150</td>\n",
       "      <td>0.280682</td>\n",
       "      <td>8.049253</td>\n",
       "    </tr>\n",
       "    <tr>\n",
       "      <th>6</th>\n",
       "      <td>A</td>\n",
       "      <td>A</td>\n",
       "      <td>A</td>\n",
       "      <td>C</td>\n",
       "      <td>B</td>\n",
       "      <td>D</td>\n",
       "      <td>A</td>\n",
       "      <td>E</td>\n",
       "      <td>A</td>\n",
       "      <td>N</td>\n",
       "      <td>...</td>\n",
       "      <td>0.686964</td>\n",
       "      <td>0.420667</td>\n",
       "      <td>0.648182</td>\n",
       "      <td>0.684501</td>\n",
       "      <td>0.956692</td>\n",
       "      <td>1.000773</td>\n",
       "      <td>0.776742</td>\n",
       "      <td>0.625849</td>\n",
       "      <td>0.250823</td>\n",
       "      <td>7.972260</td>\n",
       "    </tr>\n",
       "  </tbody>\n",
       "</table>\n",
       "<p>5 rows × 25 columns</p>\n",
       "</div>"
      ],
      "text/plain": [
       "   cat0 cat1 cat2 cat3 cat4 cat5 cat6 cat7 cat8 cat9  ...     cont5     cont6  \\\n",
       "id                                                    ...                       \n",
       "1     B    B    B    C    B    B    A    E    C    N  ...  0.400361  0.160266   \n",
       "2     B    B    A    A    B    D    A    F    A    O  ...  0.533087  0.558922   \n",
       "3     A    A    A    C    B    D    A    D    A    F  ...  0.650609  0.375348   \n",
       "4     B    B    A    C    B    D    A    E    C    K  ...  0.668980  0.239061   \n",
       "6     A    A    A    C    B    D    A    E    A    N  ...  0.686964  0.420667   \n",
       "\n",
       "       cont7     cont8     cont9    cont10    cont11    cont12    cont13  \\\n",
       "id                                                                         \n",
       "1   0.310921  0.389470  0.267559  0.237281  0.377873  0.322401  0.869850   \n",
       "2   0.516294  0.594928  0.341439  0.906013  0.921701  0.261975  0.465083   \n",
       "3   0.902567  0.555205  0.843531  0.748809  0.620126  0.541474  0.763846   \n",
       "4   0.732948  0.679618  0.574844  0.346010  0.714610  0.540150  0.280682   \n",
       "6   0.648182  0.684501  0.956692  1.000773  0.776742  0.625849  0.250823   \n",
       "\n",
       "      target  \n",
       "id            \n",
       "1   8.113634  \n",
       "2   8.481233  \n",
       "3   8.364351  \n",
       "4   8.049253  \n",
       "6   7.972260  \n",
       "\n",
       "[5 rows x 25 columns]"
      ]
     },
     "execution_count": 2,
     "metadata": {},
     "output_type": "execute_result"
    }
   ],
   "source": [
    "# Load the training data\n",
    "#train = pd.read_csv(\"../input/30-days-of-ml/train.csv\", index_col=0)\n",
    "#test = pd.read_csv(\"../input/30-days-of-ml/test.csv\", index_col=0)\n",
    "train = pd.read_csv(\"train.csv\", index_col=0)\n",
    "test = pd.read_csv(\"test.csv\", index_col=0)\n",
    "# Preview the data\n",
    "train.head()"
   ]
  },
  {
   "cell_type": "markdown",
   "metadata": {},
   "source": [
    "The next code cell separates the target (which we assign to `y`) from the training features (which we assign to `features`)."
   ]
  },
  {
   "cell_type": "code",
   "execution_count": 3,
   "metadata": {
    "execution": {
     "iopub.execute_input": "2021-08-27T17:44:13.961471Z",
     "iopub.status.busy": "2021-08-27T17:44:13.961010Z",
     "iopub.status.idle": "2021-08-27T17:44:14.036833Z",
     "shell.execute_reply": "2021-08-27T17:44:14.035628Z",
     "shell.execute_reply.started": "2021-08-27T17:44:13.961432Z"
    }
   },
   "outputs": [
    {
     "data": {
      "text/html": [
       "<div>\n",
       "<style scoped>\n",
       "    .dataframe tbody tr th:only-of-type {\n",
       "        vertical-align: middle;\n",
       "    }\n",
       "\n",
       "    .dataframe tbody tr th {\n",
       "        vertical-align: top;\n",
       "    }\n",
       "\n",
       "    .dataframe thead th {\n",
       "        text-align: right;\n",
       "    }\n",
       "</style>\n",
       "<table border=\"1\" class=\"dataframe\">\n",
       "  <thead>\n",
       "    <tr style=\"text-align: right;\">\n",
       "      <th></th>\n",
       "      <th>cat0</th>\n",
       "      <th>cat1</th>\n",
       "      <th>cat2</th>\n",
       "      <th>cat3</th>\n",
       "      <th>cat4</th>\n",
       "      <th>cat5</th>\n",
       "      <th>cat6</th>\n",
       "      <th>cat7</th>\n",
       "      <th>cat8</th>\n",
       "      <th>cat9</th>\n",
       "      <th>...</th>\n",
       "      <th>cont4</th>\n",
       "      <th>cont5</th>\n",
       "      <th>cont6</th>\n",
       "      <th>cont7</th>\n",
       "      <th>cont8</th>\n",
       "      <th>cont9</th>\n",
       "      <th>cont10</th>\n",
       "      <th>cont11</th>\n",
       "      <th>cont12</th>\n",
       "      <th>cont13</th>\n",
       "    </tr>\n",
       "    <tr>\n",
       "      <th>id</th>\n",
       "      <th></th>\n",
       "      <th></th>\n",
       "      <th></th>\n",
       "      <th></th>\n",
       "      <th></th>\n",
       "      <th></th>\n",
       "      <th></th>\n",
       "      <th></th>\n",
       "      <th></th>\n",
       "      <th></th>\n",
       "      <th></th>\n",
       "      <th></th>\n",
       "      <th></th>\n",
       "      <th></th>\n",
       "      <th></th>\n",
       "      <th></th>\n",
       "      <th></th>\n",
       "      <th></th>\n",
       "      <th></th>\n",
       "      <th></th>\n",
       "      <th></th>\n",
       "    </tr>\n",
       "  </thead>\n",
       "  <tbody>\n",
       "    <tr>\n",
       "      <th>1</th>\n",
       "      <td>B</td>\n",
       "      <td>B</td>\n",
       "      <td>B</td>\n",
       "      <td>C</td>\n",
       "      <td>B</td>\n",
       "      <td>B</td>\n",
       "      <td>A</td>\n",
       "      <td>E</td>\n",
       "      <td>C</td>\n",
       "      <td>N</td>\n",
       "      <td>...</td>\n",
       "      <td>0.610706</td>\n",
       "      <td>0.400361</td>\n",
       "      <td>0.160266</td>\n",
       "      <td>0.310921</td>\n",
       "      <td>0.389470</td>\n",
       "      <td>0.267559</td>\n",
       "      <td>0.237281</td>\n",
       "      <td>0.377873</td>\n",
       "      <td>0.322401</td>\n",
       "      <td>0.869850</td>\n",
       "    </tr>\n",
       "    <tr>\n",
       "      <th>2</th>\n",
       "      <td>B</td>\n",
       "      <td>B</td>\n",
       "      <td>A</td>\n",
       "      <td>A</td>\n",
       "      <td>B</td>\n",
       "      <td>D</td>\n",
       "      <td>A</td>\n",
       "      <td>F</td>\n",
       "      <td>A</td>\n",
       "      <td>O</td>\n",
       "      <td>...</td>\n",
       "      <td>0.276853</td>\n",
       "      <td>0.533087</td>\n",
       "      <td>0.558922</td>\n",
       "      <td>0.516294</td>\n",
       "      <td>0.594928</td>\n",
       "      <td>0.341439</td>\n",
       "      <td>0.906013</td>\n",
       "      <td>0.921701</td>\n",
       "      <td>0.261975</td>\n",
       "      <td>0.465083</td>\n",
       "    </tr>\n",
       "    <tr>\n",
       "      <th>3</th>\n",
       "      <td>A</td>\n",
       "      <td>A</td>\n",
       "      <td>A</td>\n",
       "      <td>C</td>\n",
       "      <td>B</td>\n",
       "      <td>D</td>\n",
       "      <td>A</td>\n",
       "      <td>D</td>\n",
       "      <td>A</td>\n",
       "      <td>F</td>\n",
       "      <td>...</td>\n",
       "      <td>0.285074</td>\n",
       "      <td>0.650609</td>\n",
       "      <td>0.375348</td>\n",
       "      <td>0.902567</td>\n",
       "      <td>0.555205</td>\n",
       "      <td>0.843531</td>\n",
       "      <td>0.748809</td>\n",
       "      <td>0.620126</td>\n",
       "      <td>0.541474</td>\n",
       "      <td>0.763846</td>\n",
       "    </tr>\n",
       "    <tr>\n",
       "      <th>4</th>\n",
       "      <td>B</td>\n",
       "      <td>B</td>\n",
       "      <td>A</td>\n",
       "      <td>C</td>\n",
       "      <td>B</td>\n",
       "      <td>D</td>\n",
       "      <td>A</td>\n",
       "      <td>E</td>\n",
       "      <td>C</td>\n",
       "      <td>K</td>\n",
       "      <td>...</td>\n",
       "      <td>0.284667</td>\n",
       "      <td>0.668980</td>\n",
       "      <td>0.239061</td>\n",
       "      <td>0.732948</td>\n",
       "      <td>0.679618</td>\n",
       "      <td>0.574844</td>\n",
       "      <td>0.346010</td>\n",
       "      <td>0.714610</td>\n",
       "      <td>0.540150</td>\n",
       "      <td>0.280682</td>\n",
       "    </tr>\n",
       "    <tr>\n",
       "      <th>6</th>\n",
       "      <td>A</td>\n",
       "      <td>A</td>\n",
       "      <td>A</td>\n",
       "      <td>C</td>\n",
       "      <td>B</td>\n",
       "      <td>D</td>\n",
       "      <td>A</td>\n",
       "      <td>E</td>\n",
       "      <td>A</td>\n",
       "      <td>N</td>\n",
       "      <td>...</td>\n",
       "      <td>0.287595</td>\n",
       "      <td>0.686964</td>\n",
       "      <td>0.420667</td>\n",
       "      <td>0.648182</td>\n",
       "      <td>0.684501</td>\n",
       "      <td>0.956692</td>\n",
       "      <td>1.000773</td>\n",
       "      <td>0.776742</td>\n",
       "      <td>0.625849</td>\n",
       "      <td>0.250823</td>\n",
       "    </tr>\n",
       "  </tbody>\n",
       "</table>\n",
       "<p>5 rows × 24 columns</p>\n",
       "</div>"
      ],
      "text/plain": [
       "   cat0 cat1 cat2 cat3 cat4 cat5 cat6 cat7 cat8 cat9  ...     cont4     cont5  \\\n",
       "id                                                    ...                       \n",
       "1     B    B    B    C    B    B    A    E    C    N  ...  0.610706  0.400361   \n",
       "2     B    B    A    A    B    D    A    F    A    O  ...  0.276853  0.533087   \n",
       "3     A    A    A    C    B    D    A    D    A    F  ...  0.285074  0.650609   \n",
       "4     B    B    A    C    B    D    A    E    C    K  ...  0.284667  0.668980   \n",
       "6     A    A    A    C    B    D    A    E    A    N  ...  0.287595  0.686964   \n",
       "\n",
       "       cont6     cont7     cont8     cont9    cont10    cont11    cont12  \\\n",
       "id                                                                         \n",
       "1   0.160266  0.310921  0.389470  0.267559  0.237281  0.377873  0.322401   \n",
       "2   0.558922  0.516294  0.594928  0.341439  0.906013  0.921701  0.261975   \n",
       "3   0.375348  0.902567  0.555205  0.843531  0.748809  0.620126  0.541474   \n",
       "4   0.239061  0.732948  0.679618  0.574844  0.346010  0.714610  0.540150   \n",
       "6   0.420667  0.648182  0.684501  0.956692  1.000773  0.776742  0.625849   \n",
       "\n",
       "      cont13  \n",
       "id            \n",
       "1   0.869850  \n",
       "2   0.465083  \n",
       "3   0.763846  \n",
       "4   0.280682  \n",
       "6   0.250823  \n",
       "\n",
       "[5 rows x 24 columns]"
      ]
     },
     "execution_count": 3,
     "metadata": {},
     "output_type": "execute_result"
    }
   ],
   "source": [
    "# Separate target from features\n",
    "y = train['target']\n",
    "features = train.drop(['target'], axis=1)\n",
    "\n",
    "# Preview features\n",
    "features.head()"
   ]
  },
  {
   "cell_type": "code",
   "execution_count": 4,
   "metadata": {
    "execution": {
     "iopub.execute_input": "2021-08-27T17:44:14.039528Z",
     "iopub.status.busy": "2021-08-27T17:44:14.039033Z",
     "iopub.status.idle": "2021-08-27T17:44:14.046578Z",
     "shell.execute_reply": "2021-08-27T17:44:14.045319Z",
     "shell.execute_reply.started": "2021-08-27T17:44:14.039478Z"
    }
   },
   "outputs": [
    {
     "data": {
      "text/plain": [
       "(300000, 25)"
      ]
     },
     "execution_count": 4,
     "metadata": {},
     "output_type": "execute_result"
    }
   ],
   "source": [
    "train.shape"
   ]
  },
  {
   "cell_type": "code",
   "execution_count": 5,
   "metadata": {
    "execution": {
     "iopub.execute_input": "2021-08-27T17:44:14.050254Z",
     "iopub.status.busy": "2021-08-27T17:44:14.049905Z",
     "iopub.status.idle": "2021-08-27T17:44:14.062900Z",
     "shell.execute_reply": "2021-08-27T17:44:14.061627Z",
     "shell.execute_reply.started": "2021-08-27T17:44:14.050210Z"
    }
   },
   "outputs": [
    {
     "data": {
      "text/plain": [
       "(200000, 24)"
      ]
     },
     "execution_count": 5,
     "metadata": {},
     "output_type": "execute_result"
    }
   ],
   "source": [
    "test.shape"
   ]
  },
  {
   "cell_type": "code",
   "execution_count": 6,
   "metadata": {
    "execution": {
     "iopub.execute_input": "2021-08-27T17:44:14.066315Z",
     "iopub.status.busy": "2021-08-27T17:44:14.065880Z",
     "iopub.status.idle": "2021-08-27T17:44:14.218671Z",
     "shell.execute_reply": "2021-08-27T17:44:14.216873Z",
     "shell.execute_reply.started": "2021-08-27T17:44:14.066274Z"
    }
   },
   "outputs": [
    {
     "name": "stdout",
     "output_type": "stream",
     "text": [
      "<class 'pandas.core.frame.DataFrame'>\n",
      "Int64Index: 300000 entries, 1 to 499999\n",
      "Data columns (total 25 columns):\n",
      " #   Column  Non-Null Count   Dtype  \n",
      "---  ------  --------------   -----  \n",
      " 0   cat0    300000 non-null  object \n",
      " 1   cat1    300000 non-null  object \n",
      " 2   cat2    300000 non-null  object \n",
      " 3   cat3    300000 non-null  object \n",
      " 4   cat4    300000 non-null  object \n",
      " 5   cat5    300000 non-null  object \n",
      " 6   cat6    300000 non-null  object \n",
      " 7   cat7    300000 non-null  object \n",
      " 8   cat8    300000 non-null  object \n",
      " 9   cat9    300000 non-null  object \n",
      " 10  cont0   300000 non-null  float64\n",
      " 11  cont1   300000 non-null  float64\n",
      " 12  cont2   300000 non-null  float64\n",
      " 13  cont3   300000 non-null  float64\n",
      " 14  cont4   300000 non-null  float64\n",
      " 15  cont5   300000 non-null  float64\n",
      " 16  cont6   300000 non-null  float64\n",
      " 17  cont7   300000 non-null  float64\n",
      " 18  cont8   300000 non-null  float64\n",
      " 19  cont9   300000 non-null  float64\n",
      " 20  cont10  300000 non-null  float64\n",
      " 21  cont11  300000 non-null  float64\n",
      " 22  cont12  300000 non-null  float64\n",
      " 23  cont13  300000 non-null  float64\n",
      " 24  target  300000 non-null  float64\n",
      "dtypes: float64(15), object(10)\n",
      "memory usage: 59.5+ MB\n"
     ]
    }
   ],
   "source": [
    "train.info()"
   ]
  },
  {
   "cell_type": "code",
   "execution_count": 7,
   "metadata": {
    "execution": {
     "iopub.execute_input": "2021-08-27T17:44:14.220460Z",
     "iopub.status.busy": "2021-08-27T17:44:14.220160Z",
     "iopub.status.idle": "2021-08-27T17:44:14.321274Z",
     "shell.execute_reply": "2021-08-27T17:44:14.320226Z",
     "shell.execute_reply.started": "2021-08-27T17:44:14.220430Z"
    }
   },
   "outputs": [
    {
     "name": "stdout",
     "output_type": "stream",
     "text": [
      "<class 'pandas.core.frame.DataFrame'>\n",
      "Int64Index: 200000 entries, 0 to 499995\n",
      "Data columns (total 24 columns):\n",
      " #   Column  Non-Null Count   Dtype  \n",
      "---  ------  --------------   -----  \n",
      " 0   cat0    200000 non-null  object \n",
      " 1   cat1    200000 non-null  object \n",
      " 2   cat2    200000 non-null  object \n",
      " 3   cat3    200000 non-null  object \n",
      " 4   cat4    200000 non-null  object \n",
      " 5   cat5    200000 non-null  object \n",
      " 6   cat6    200000 non-null  object \n",
      " 7   cat7    200000 non-null  object \n",
      " 8   cat8    200000 non-null  object \n",
      " 9   cat9    200000 non-null  object \n",
      " 10  cont0   200000 non-null  float64\n",
      " 11  cont1   200000 non-null  float64\n",
      " 12  cont2   200000 non-null  float64\n",
      " 13  cont3   200000 non-null  float64\n",
      " 14  cont4   200000 non-null  float64\n",
      " 15  cont5   200000 non-null  float64\n",
      " 16  cont6   200000 non-null  float64\n",
      " 17  cont7   200000 non-null  float64\n",
      " 18  cont8   200000 non-null  float64\n",
      " 19  cont9   200000 non-null  float64\n",
      " 20  cont10  200000 non-null  float64\n",
      " 21  cont11  200000 non-null  float64\n",
      " 22  cont12  200000 non-null  float64\n",
      " 23  cont13  200000 non-null  float64\n",
      "dtypes: float64(14), object(10)\n",
      "memory usage: 38.1+ MB\n"
     ]
    }
   ],
   "source": [
    "test.info()"
   ]
  },
  {
   "cell_type": "code",
   "execution_count": 8,
   "metadata": {
    "execution": {
     "iopub.execute_input": "2021-08-27T17:44:14.323750Z",
     "iopub.status.busy": "2021-08-27T17:44:14.323373Z",
     "iopub.status.idle": "2021-08-27T17:44:14.614488Z",
     "shell.execute_reply": "2021-08-27T17:44:14.613318Z",
     "shell.execute_reply.started": "2021-08-27T17:44:14.323713Z"
    }
   },
   "outputs": [
    {
     "data": {
      "text/html": [
       "<div>\n",
       "<style scoped>\n",
       "    .dataframe tbody tr th:only-of-type {\n",
       "        vertical-align: middle;\n",
       "    }\n",
       "\n",
       "    .dataframe tbody tr th {\n",
       "        vertical-align: top;\n",
       "    }\n",
       "\n",
       "    .dataframe thead th {\n",
       "        text-align: right;\n",
       "    }\n",
       "</style>\n",
       "<table border=\"1\" class=\"dataframe\">\n",
       "  <thead>\n",
       "    <tr style=\"text-align: right;\">\n",
       "      <th></th>\n",
       "      <th>cont0</th>\n",
       "      <th>cont1</th>\n",
       "      <th>cont2</th>\n",
       "      <th>cont3</th>\n",
       "      <th>cont4</th>\n",
       "      <th>cont5</th>\n",
       "      <th>cont6</th>\n",
       "      <th>cont7</th>\n",
       "      <th>cont8</th>\n",
       "      <th>cont9</th>\n",
       "      <th>cont10</th>\n",
       "      <th>cont11</th>\n",
       "      <th>cont12</th>\n",
       "      <th>cont13</th>\n",
       "      <th>target</th>\n",
       "    </tr>\n",
       "  </thead>\n",
       "  <tbody>\n",
       "    <tr>\n",
       "      <th>count</th>\n",
       "      <td>300000.000000</td>\n",
       "      <td>300000.000000</td>\n",
       "      <td>300000.000000</td>\n",
       "      <td>300000.000000</td>\n",
       "      <td>300000.000000</td>\n",
       "      <td>300000.000000</td>\n",
       "      <td>300000.000000</td>\n",
       "      <td>300000.000000</td>\n",
       "      <td>300000.000000</td>\n",
       "      <td>300000.000000</td>\n",
       "      <td>300000.000000</td>\n",
       "      <td>300000.000000</td>\n",
       "      <td>300000.000000</td>\n",
       "      <td>300000.000000</td>\n",
       "      <td>300000.000000</td>\n",
       "    </tr>\n",
       "    <tr>\n",
       "      <th>mean</th>\n",
       "      <td>0.527335</td>\n",
       "      <td>0.460926</td>\n",
       "      <td>0.490498</td>\n",
       "      <td>0.496689</td>\n",
       "      <td>0.491654</td>\n",
       "      <td>0.510526</td>\n",
       "      <td>0.467476</td>\n",
       "      <td>0.537119</td>\n",
       "      <td>0.498456</td>\n",
       "      <td>0.474872</td>\n",
       "      <td>0.474492</td>\n",
       "      <td>0.473216</td>\n",
       "      <td>0.494561</td>\n",
       "      <td>0.508273</td>\n",
       "      <td>8.241979</td>\n",
       "    </tr>\n",
       "    <tr>\n",
       "      <th>std</th>\n",
       "      <td>0.230599</td>\n",
       "      <td>0.214003</td>\n",
       "      <td>0.253346</td>\n",
       "      <td>0.219199</td>\n",
       "      <td>0.240074</td>\n",
       "      <td>0.228232</td>\n",
       "      <td>0.210331</td>\n",
       "      <td>0.218140</td>\n",
       "      <td>0.239920</td>\n",
       "      <td>0.218007</td>\n",
       "      <td>0.255949</td>\n",
       "      <td>0.222022</td>\n",
       "      <td>0.247292</td>\n",
       "      <td>0.222950</td>\n",
       "      <td>0.746555</td>\n",
       "    </tr>\n",
       "    <tr>\n",
       "      <th>min</th>\n",
       "      <td>-0.118039</td>\n",
       "      <td>-0.069309</td>\n",
       "      <td>-0.056104</td>\n",
       "      <td>0.130676</td>\n",
       "      <td>0.255908</td>\n",
       "      <td>0.045915</td>\n",
       "      <td>-0.224689</td>\n",
       "      <td>0.203763</td>\n",
       "      <td>-0.260275</td>\n",
       "      <td>0.117896</td>\n",
       "      <td>0.048732</td>\n",
       "      <td>0.052608</td>\n",
       "      <td>-0.074208</td>\n",
       "      <td>0.151050</td>\n",
       "      <td>0.140329</td>\n",
       "    </tr>\n",
       "    <tr>\n",
       "      <th>25%</th>\n",
       "      <td>0.405965</td>\n",
       "      <td>0.310494</td>\n",
       "      <td>0.300604</td>\n",
       "      <td>0.329783</td>\n",
       "      <td>0.284188</td>\n",
       "      <td>0.354141</td>\n",
       "      <td>0.342873</td>\n",
       "      <td>0.355825</td>\n",
       "      <td>0.332486</td>\n",
       "      <td>0.306874</td>\n",
       "      <td>0.276017</td>\n",
       "      <td>0.308151</td>\n",
       "      <td>0.289074</td>\n",
       "      <td>0.300669</td>\n",
       "      <td>7.742071</td>\n",
       "    </tr>\n",
       "    <tr>\n",
       "      <th>50%</th>\n",
       "      <td>0.497053</td>\n",
       "      <td>0.427903</td>\n",
       "      <td>0.502462</td>\n",
       "      <td>0.465026</td>\n",
       "      <td>0.390470</td>\n",
       "      <td>0.488865</td>\n",
       "      <td>0.429383</td>\n",
       "      <td>0.504661</td>\n",
       "      <td>0.439151</td>\n",
       "      <td>0.434620</td>\n",
       "      <td>0.459975</td>\n",
       "      <td>0.433812</td>\n",
       "      <td>0.422887</td>\n",
       "      <td>0.472400</td>\n",
       "      <td>8.191373</td>\n",
       "    </tr>\n",
       "    <tr>\n",
       "      <th>75%</th>\n",
       "      <td>0.668060</td>\n",
       "      <td>0.615113</td>\n",
       "      <td>0.647512</td>\n",
       "      <td>0.664451</td>\n",
       "      <td>0.696599</td>\n",
       "      <td>0.669625</td>\n",
       "      <td>0.573383</td>\n",
       "      <td>0.703441</td>\n",
       "      <td>0.606056</td>\n",
       "      <td>0.614333</td>\n",
       "      <td>0.691579</td>\n",
       "      <td>0.642057</td>\n",
       "      <td>0.714502</td>\n",
       "      <td>0.758447</td>\n",
       "      <td>8.728634</td>\n",
       "    </tr>\n",
       "    <tr>\n",
       "      <th>max</th>\n",
       "      <td>1.058443</td>\n",
       "      <td>0.887253</td>\n",
       "      <td>1.034704</td>\n",
       "      <td>1.039560</td>\n",
       "      <td>1.055424</td>\n",
       "      <td>1.067649</td>\n",
       "      <td>1.111552</td>\n",
       "      <td>1.032837</td>\n",
       "      <td>1.040229</td>\n",
       "      <td>0.982922</td>\n",
       "      <td>1.055960</td>\n",
       "      <td>1.071444</td>\n",
       "      <td>0.975035</td>\n",
       "      <td>0.905992</td>\n",
       "      <td>10.411992</td>\n",
       "    </tr>\n",
       "  </tbody>\n",
       "</table>\n",
       "</div>"
      ],
      "text/plain": [
       "               cont0          cont1          cont2          cont3  \\\n",
       "count  300000.000000  300000.000000  300000.000000  300000.000000   \n",
       "mean        0.527335       0.460926       0.490498       0.496689   \n",
       "std         0.230599       0.214003       0.253346       0.219199   \n",
       "min        -0.118039      -0.069309      -0.056104       0.130676   \n",
       "25%         0.405965       0.310494       0.300604       0.329783   \n",
       "50%         0.497053       0.427903       0.502462       0.465026   \n",
       "75%         0.668060       0.615113       0.647512       0.664451   \n",
       "max         1.058443       0.887253       1.034704       1.039560   \n",
       "\n",
       "               cont4          cont5          cont6          cont7  \\\n",
       "count  300000.000000  300000.000000  300000.000000  300000.000000   \n",
       "mean        0.491654       0.510526       0.467476       0.537119   \n",
       "std         0.240074       0.228232       0.210331       0.218140   \n",
       "min         0.255908       0.045915      -0.224689       0.203763   \n",
       "25%         0.284188       0.354141       0.342873       0.355825   \n",
       "50%         0.390470       0.488865       0.429383       0.504661   \n",
       "75%         0.696599       0.669625       0.573383       0.703441   \n",
       "max         1.055424       1.067649       1.111552       1.032837   \n",
       "\n",
       "               cont8          cont9         cont10         cont11  \\\n",
       "count  300000.000000  300000.000000  300000.000000  300000.000000   \n",
       "mean        0.498456       0.474872       0.474492       0.473216   \n",
       "std         0.239920       0.218007       0.255949       0.222022   \n",
       "min        -0.260275       0.117896       0.048732       0.052608   \n",
       "25%         0.332486       0.306874       0.276017       0.308151   \n",
       "50%         0.439151       0.434620       0.459975       0.433812   \n",
       "75%         0.606056       0.614333       0.691579       0.642057   \n",
       "max         1.040229       0.982922       1.055960       1.071444   \n",
       "\n",
       "              cont12         cont13         target  \n",
       "count  300000.000000  300000.000000  300000.000000  \n",
       "mean        0.494561       0.508273       8.241979  \n",
       "std         0.247292       0.222950       0.746555  \n",
       "min        -0.074208       0.151050       0.140329  \n",
       "25%         0.289074       0.300669       7.742071  \n",
       "50%         0.422887       0.472400       8.191373  \n",
       "75%         0.714502       0.758447       8.728634  \n",
       "max         0.975035       0.905992      10.411992  "
      ]
     },
     "execution_count": 8,
     "metadata": {},
     "output_type": "execute_result"
    }
   ],
   "source": [
    "train.describe()"
   ]
  },
  {
   "cell_type": "code",
   "execution_count": 9,
   "metadata": {
    "execution": {
     "iopub.execute_input": "2021-08-27T17:44:14.616477Z",
     "iopub.status.busy": "2021-08-27T17:44:14.616179Z",
     "iopub.status.idle": "2021-08-27T17:44:14.815666Z",
     "shell.execute_reply": "2021-08-27T17:44:14.814315Z",
     "shell.execute_reply.started": "2021-08-27T17:44:14.616448Z"
    }
   },
   "outputs": [
    {
     "data": {
      "text/html": [
       "<div>\n",
       "<style scoped>\n",
       "    .dataframe tbody tr th:only-of-type {\n",
       "        vertical-align: middle;\n",
       "    }\n",
       "\n",
       "    .dataframe tbody tr th {\n",
       "        vertical-align: top;\n",
       "    }\n",
       "\n",
       "    .dataframe thead th {\n",
       "        text-align: right;\n",
       "    }\n",
       "</style>\n",
       "<table border=\"1\" class=\"dataframe\">\n",
       "  <thead>\n",
       "    <tr style=\"text-align: right;\">\n",
       "      <th></th>\n",
       "      <th>cont0</th>\n",
       "      <th>cont1</th>\n",
       "      <th>cont2</th>\n",
       "      <th>cont3</th>\n",
       "      <th>cont4</th>\n",
       "      <th>cont5</th>\n",
       "      <th>cont6</th>\n",
       "      <th>cont7</th>\n",
       "      <th>cont8</th>\n",
       "      <th>cont9</th>\n",
       "      <th>cont10</th>\n",
       "      <th>cont11</th>\n",
       "      <th>cont12</th>\n",
       "      <th>cont13</th>\n",
       "    </tr>\n",
       "  </thead>\n",
       "  <tbody>\n",
       "    <tr>\n",
       "      <th>count</th>\n",
       "      <td>200000.000000</td>\n",
       "      <td>200000.000000</td>\n",
       "      <td>200000.000000</td>\n",
       "      <td>200000.000000</td>\n",
       "      <td>200000.000000</td>\n",
       "      <td>200000.000000</td>\n",
       "      <td>200000.000000</td>\n",
       "      <td>200000.000000</td>\n",
       "      <td>200000.000000</td>\n",
       "      <td>200000.000000</td>\n",
       "      <td>200000.000000</td>\n",
       "      <td>200000.000000</td>\n",
       "      <td>200000.000000</td>\n",
       "      <td>200000.000000</td>\n",
       "    </tr>\n",
       "    <tr>\n",
       "      <th>mean</th>\n",
       "      <td>0.526858</td>\n",
       "      <td>0.460882</td>\n",
       "      <td>0.491686</td>\n",
       "      <td>0.496263</td>\n",
       "      <td>0.492200</td>\n",
       "      <td>0.509944</td>\n",
       "      <td>0.468050</td>\n",
       "      <td>0.537617</td>\n",
       "      <td>0.497587</td>\n",
       "      <td>0.474630</td>\n",
       "      <td>0.473625</td>\n",
       "      <td>0.473589</td>\n",
       "      <td>0.492756</td>\n",
       "      <td>0.508303</td>\n",
       "    </tr>\n",
       "    <tr>\n",
       "      <th>std</th>\n",
       "      <td>0.230506</td>\n",
       "      <td>0.213896</td>\n",
       "      <td>0.252852</td>\n",
       "      <td>0.219304</td>\n",
       "      <td>0.240251</td>\n",
       "      <td>0.228100</td>\n",
       "      <td>0.210167</td>\n",
       "      <td>0.218197</td>\n",
       "      <td>0.239337</td>\n",
       "      <td>0.217558</td>\n",
       "      <td>0.255307</td>\n",
       "      <td>0.221844</td>\n",
       "      <td>0.247105</td>\n",
       "      <td>0.222977</td>\n",
       "    </tr>\n",
       "    <tr>\n",
       "      <th>min</th>\n",
       "      <td>-0.117993</td>\n",
       "      <td>-0.069316</td>\n",
       "      <td>-0.056095</td>\n",
       "      <td>0.130655</td>\n",
       "      <td>0.255903</td>\n",
       "      <td>0.045921</td>\n",
       "      <td>-0.224613</td>\n",
       "      <td>0.203763</td>\n",
       "      <td>-0.260236</td>\n",
       "      <td>0.117894</td>\n",
       "      <td>0.048734</td>\n",
       "      <td>0.052615</td>\n",
       "      <td>-0.074201</td>\n",
       "      <td>0.151052</td>\n",
       "    </tr>\n",
       "    <tr>\n",
       "      <th>25%</th>\n",
       "      <td>0.405787</td>\n",
       "      <td>0.310536</td>\n",
       "      <td>0.302189</td>\n",
       "      <td>0.328865</td>\n",
       "      <td>0.284188</td>\n",
       "      <td>0.353682</td>\n",
       "      <td>0.342813</td>\n",
       "      <td>0.356482</td>\n",
       "      <td>0.332762</td>\n",
       "      <td>0.306940</td>\n",
       "      <td>0.274991</td>\n",
       "      <td>0.308495</td>\n",
       "      <td>0.288094</td>\n",
       "      <td>0.300697</td>\n",
       "    </tr>\n",
       "    <tr>\n",
       "      <th>50%</th>\n",
       "      <td>0.496602</td>\n",
       "      <td>0.427656</td>\n",
       "      <td>0.503075</td>\n",
       "      <td>0.464590</td>\n",
       "      <td>0.395080</td>\n",
       "      <td>0.488378</td>\n",
       "      <td>0.429819</td>\n",
       "      <td>0.505216</td>\n",
       "      <td>0.438716</td>\n",
       "      <td>0.434610</td>\n",
       "      <td>0.460042</td>\n",
       "      <td>0.433857</td>\n",
       "      <td>0.422065</td>\n",
       "      <td>0.472446</td>\n",
       "    </tr>\n",
       "    <tr>\n",
       "      <th>75%</th>\n",
       "      <td>0.666389</td>\n",
       "      <td>0.615041</td>\n",
       "      <td>0.648234</td>\n",
       "      <td>0.663401</td>\n",
       "      <td>0.697252</td>\n",
       "      <td>0.668586</td>\n",
       "      <td>0.573861</td>\n",
       "      <td>0.703289</td>\n",
       "      <td>0.605368</td>\n",
       "      <td>0.610768</td>\n",
       "      <td>0.690143</td>\n",
       "      <td>0.642201</td>\n",
       "      <td>0.711038</td>\n",
       "      <td>0.758496</td>\n",
       "    </tr>\n",
       "    <tr>\n",
       "      <th>max</th>\n",
       "      <td>1.058434</td>\n",
       "      <td>0.887253</td>\n",
       "      <td>1.034687</td>\n",
       "      <td>1.039558</td>\n",
       "      <td>1.055423</td>\n",
       "      <td>1.067641</td>\n",
       "      <td>1.111540</td>\n",
       "      <td>1.032823</td>\n",
       "      <td>1.040208</td>\n",
       "      <td>0.982928</td>\n",
       "      <td>1.055955</td>\n",
       "      <td>1.071445</td>\n",
       "      <td>0.975032</td>\n",
       "      <td>0.906013</td>\n",
       "    </tr>\n",
       "  </tbody>\n",
       "</table>\n",
       "</div>"
      ],
      "text/plain": [
       "               cont0          cont1          cont2          cont3  \\\n",
       "count  200000.000000  200000.000000  200000.000000  200000.000000   \n",
       "mean        0.526858       0.460882       0.491686       0.496263   \n",
       "std         0.230506       0.213896       0.252852       0.219304   \n",
       "min        -0.117993      -0.069316      -0.056095       0.130655   \n",
       "25%         0.405787       0.310536       0.302189       0.328865   \n",
       "50%         0.496602       0.427656       0.503075       0.464590   \n",
       "75%         0.666389       0.615041       0.648234       0.663401   \n",
       "max         1.058434       0.887253       1.034687       1.039558   \n",
       "\n",
       "               cont4          cont5          cont6          cont7  \\\n",
       "count  200000.000000  200000.000000  200000.000000  200000.000000   \n",
       "mean        0.492200       0.509944       0.468050       0.537617   \n",
       "std         0.240251       0.228100       0.210167       0.218197   \n",
       "min         0.255903       0.045921      -0.224613       0.203763   \n",
       "25%         0.284188       0.353682       0.342813       0.356482   \n",
       "50%         0.395080       0.488378       0.429819       0.505216   \n",
       "75%         0.697252       0.668586       0.573861       0.703289   \n",
       "max         1.055423       1.067641       1.111540       1.032823   \n",
       "\n",
       "               cont8          cont9         cont10         cont11  \\\n",
       "count  200000.000000  200000.000000  200000.000000  200000.000000   \n",
       "mean        0.497587       0.474630       0.473625       0.473589   \n",
       "std         0.239337       0.217558       0.255307       0.221844   \n",
       "min        -0.260236       0.117894       0.048734       0.052615   \n",
       "25%         0.332762       0.306940       0.274991       0.308495   \n",
       "50%         0.438716       0.434610       0.460042       0.433857   \n",
       "75%         0.605368       0.610768       0.690143       0.642201   \n",
       "max         1.040208       0.982928       1.055955       1.071445   \n",
       "\n",
       "              cont12         cont13  \n",
       "count  200000.000000  200000.000000  \n",
       "mean        0.492756       0.508303  \n",
       "std         0.247105       0.222977  \n",
       "min        -0.074201       0.151052  \n",
       "25%         0.288094       0.300697  \n",
       "50%         0.422065       0.472446  \n",
       "75%         0.711038       0.758496  \n",
       "max         0.975032       0.906013  "
      ]
     },
     "execution_count": 9,
     "metadata": {},
     "output_type": "execute_result"
    }
   ],
   "source": [
    "test.describe()"
   ]
  },
  {
   "cell_type": "code",
   "execution_count": 10,
   "metadata": {
    "execution": {
     "iopub.execute_input": "2021-08-27T17:44:14.817995Z",
     "iopub.status.busy": "2021-08-27T17:44:14.817527Z",
     "iopub.status.idle": "2021-08-27T17:44:15.051120Z",
     "shell.execute_reply": "2021-08-27T17:44:15.049952Z",
     "shell.execute_reply.started": "2021-08-27T17:44:14.817947Z"
    }
   },
   "outputs": [
    {
     "data": {
      "text/plain": [
       "cat0  cat1  cat2  cat3  cat4  cat5  cat6  cat7  cat8  cat9\n",
       "A     A     A     C     B     D     A     E     A     F       5196\n",
       "      B     A     C     B     B     A     E     C     I       3884\n",
       "B     A     A     C     B     D     A     E     A     F       3764\n",
       "A     B     A     C     B     B     A     E     E     I       3511\n",
       "                                                C     F       3210\n",
       "                                                              ... \n",
       "                        C     D     B     E     E     I          1\n",
       "                                    C     E     A     G          1\n",
       "                                                C     N          1\n",
       "                                                E     F          1\n",
       "B     B     B     D     D     D     A     E     E     G          1\n",
       "Length: 14782, dtype: int64"
      ]
     },
     "execution_count": 10,
     "metadata": {},
     "output_type": "execute_result"
    }
   ],
   "source": [
    "\n",
    "train.loc[:, 'cat0':'cat9'].value_counts()\n",
    "\n"
   ]
  },
  {
   "cell_type": "code",
   "execution_count": 11,
   "metadata": {
    "execution": {
     "iopub.execute_input": "2021-08-27T17:44:15.053261Z",
     "iopub.status.busy": "2021-08-27T17:44:15.052906Z",
     "iopub.status.idle": "2021-08-27T17:44:15.375668Z",
     "shell.execute_reply": "2021-08-27T17:44:15.374515Z",
     "shell.execute_reply.started": "2021-08-27T17:44:15.053233Z"
    }
   },
   "outputs": [
    {
     "data": {
      "text/plain": [
       "cat0     2\n",
       "cat1     2\n",
       "cat2     2\n",
       "cat3     4\n",
       "cat4     4\n",
       "cat5     4\n",
       "cat6     8\n",
       "cat7     8\n",
       "cat8     7\n",
       "cat9    15\n",
       "dtype: int64"
      ]
     },
     "execution_count": 11,
     "metadata": {},
     "output_type": "execute_result"
    }
   ],
   "source": [
    "train.loc[:, 'cat0':'cat9'].nunique()"
   ]
  },
  {
   "cell_type": "code",
   "execution_count": 12,
   "metadata": {
    "execution": {
     "iopub.execute_input": "2021-08-27T17:44:15.377404Z",
     "iopub.status.busy": "2021-08-27T17:44:15.377092Z",
     "iopub.status.idle": "2021-08-27T17:44:15.606597Z",
     "shell.execute_reply": "2021-08-27T17:44:15.605377Z",
     "shell.execute_reply.started": "2021-08-27T17:44:15.377371Z"
    }
   },
   "outputs": [
    {
     "name": "stdout",
     "output_type": "stream",
     "text": [
      "Missing values in train dataset: 0\n",
      "Missing values in test dataset: 0\n"
     ]
    }
   ],
   "source": [
    "print('Missing values in train dataset:', sum(train.isnull().sum()))\n",
    "print('Missing values in test dataset:', sum(test.isnull().sum()))"
   ]
  },
  {
   "cell_type": "markdown",
   "metadata": {},
   "source": [
    "# Step 3: Prepare the data\n",
    "\n",
    "Next, we'll need to handle the categorical columns (`cat0`, `cat1`, ... `cat9`).  \n",
    "\n",
    "In the **[Categorical Variables lesson](https://www.kaggle.com/alexisbcook/categorical-variables)** in the Intermediate Machine Learning course, you learned several different ways to encode categorical variables in a dataset.  In this notebook, we'll use ordinal encoding and save our encoded features as new variables `X` and `X_test`."
   ]
  },
  {
   "cell_type": "code",
   "execution_count": 13,
   "metadata": {
    "execution": {
     "iopub.execute_input": "2021-08-27T17:44:15.608520Z",
     "iopub.status.busy": "2021-08-27T17:44:15.608226Z",
     "iopub.status.idle": "2021-08-27T17:44:15.682007Z",
     "shell.execute_reply": "2021-08-27T17:44:15.680729Z",
     "shell.execute_reply.started": "2021-08-27T17:44:15.608493Z"
    }
   },
   "outputs": [
    {
     "data": {
      "text/html": [
       "<div>\n",
       "<style scoped>\n",
       "    .dataframe tbody tr th:only-of-type {\n",
       "        vertical-align: middle;\n",
       "    }\n",
       "\n",
       "    .dataframe tbody tr th {\n",
       "        vertical-align: top;\n",
       "    }\n",
       "\n",
       "    .dataframe thead th {\n",
       "        text-align: right;\n",
       "    }\n",
       "</style>\n",
       "<table border=\"1\" class=\"dataframe\">\n",
       "  <thead>\n",
       "    <tr style=\"text-align: right;\">\n",
       "      <th></th>\n",
       "      <th>cat0</th>\n",
       "      <th>cat1</th>\n",
       "      <th>cat2</th>\n",
       "      <th>cat3</th>\n",
       "      <th>cat4</th>\n",
       "      <th>cat5</th>\n",
       "      <th>cat6</th>\n",
       "      <th>cat7</th>\n",
       "      <th>cat8</th>\n",
       "      <th>cat9</th>\n",
       "      <th>...</th>\n",
       "      <th>cont4</th>\n",
       "      <th>cont5</th>\n",
       "      <th>cont6</th>\n",
       "      <th>cont7</th>\n",
       "      <th>cont8</th>\n",
       "      <th>cont9</th>\n",
       "      <th>cont10</th>\n",
       "      <th>cont11</th>\n",
       "      <th>cont12</th>\n",
       "      <th>cont13</th>\n",
       "    </tr>\n",
       "    <tr>\n",
       "      <th>id</th>\n",
       "      <th></th>\n",
       "      <th></th>\n",
       "      <th></th>\n",
       "      <th></th>\n",
       "      <th></th>\n",
       "      <th></th>\n",
       "      <th></th>\n",
       "      <th></th>\n",
       "      <th></th>\n",
       "      <th></th>\n",
       "      <th></th>\n",
       "      <th></th>\n",
       "      <th></th>\n",
       "      <th></th>\n",
       "      <th></th>\n",
       "      <th></th>\n",
       "      <th></th>\n",
       "      <th></th>\n",
       "      <th></th>\n",
       "      <th></th>\n",
       "      <th></th>\n",
       "    </tr>\n",
       "  </thead>\n",
       "  <tbody>\n",
       "    <tr>\n",
       "      <th>1</th>\n",
       "      <td>B</td>\n",
       "      <td>B</td>\n",
       "      <td>B</td>\n",
       "      <td>C</td>\n",
       "      <td>B</td>\n",
       "      <td>B</td>\n",
       "      <td>A</td>\n",
       "      <td>E</td>\n",
       "      <td>C</td>\n",
       "      <td>N</td>\n",
       "      <td>...</td>\n",
       "      <td>0.610706</td>\n",
       "      <td>0.400361</td>\n",
       "      <td>0.160266</td>\n",
       "      <td>0.310921</td>\n",
       "      <td>0.389470</td>\n",
       "      <td>0.267559</td>\n",
       "      <td>0.237281</td>\n",
       "      <td>0.377873</td>\n",
       "      <td>0.322401</td>\n",
       "      <td>0.869850</td>\n",
       "    </tr>\n",
       "    <tr>\n",
       "      <th>2</th>\n",
       "      <td>B</td>\n",
       "      <td>B</td>\n",
       "      <td>A</td>\n",
       "      <td>A</td>\n",
       "      <td>B</td>\n",
       "      <td>D</td>\n",
       "      <td>A</td>\n",
       "      <td>F</td>\n",
       "      <td>A</td>\n",
       "      <td>O</td>\n",
       "      <td>...</td>\n",
       "      <td>0.276853</td>\n",
       "      <td>0.533087</td>\n",
       "      <td>0.558922</td>\n",
       "      <td>0.516294</td>\n",
       "      <td>0.594928</td>\n",
       "      <td>0.341439</td>\n",
       "      <td>0.906013</td>\n",
       "      <td>0.921701</td>\n",
       "      <td>0.261975</td>\n",
       "      <td>0.465083</td>\n",
       "    </tr>\n",
       "    <tr>\n",
       "      <th>3</th>\n",
       "      <td>A</td>\n",
       "      <td>A</td>\n",
       "      <td>A</td>\n",
       "      <td>C</td>\n",
       "      <td>B</td>\n",
       "      <td>D</td>\n",
       "      <td>A</td>\n",
       "      <td>D</td>\n",
       "      <td>A</td>\n",
       "      <td>F</td>\n",
       "      <td>...</td>\n",
       "      <td>0.285074</td>\n",
       "      <td>0.650609</td>\n",
       "      <td>0.375348</td>\n",
       "      <td>0.902567</td>\n",
       "      <td>0.555205</td>\n",
       "      <td>0.843531</td>\n",
       "      <td>0.748809</td>\n",
       "      <td>0.620126</td>\n",
       "      <td>0.541474</td>\n",
       "      <td>0.763846</td>\n",
       "    </tr>\n",
       "    <tr>\n",
       "      <th>4</th>\n",
       "      <td>B</td>\n",
       "      <td>B</td>\n",
       "      <td>A</td>\n",
       "      <td>C</td>\n",
       "      <td>B</td>\n",
       "      <td>D</td>\n",
       "      <td>A</td>\n",
       "      <td>E</td>\n",
       "      <td>C</td>\n",
       "      <td>K</td>\n",
       "      <td>...</td>\n",
       "      <td>0.284667</td>\n",
       "      <td>0.668980</td>\n",
       "      <td>0.239061</td>\n",
       "      <td>0.732948</td>\n",
       "      <td>0.679618</td>\n",
       "      <td>0.574844</td>\n",
       "      <td>0.346010</td>\n",
       "      <td>0.714610</td>\n",
       "      <td>0.540150</td>\n",
       "      <td>0.280682</td>\n",
       "    </tr>\n",
       "    <tr>\n",
       "      <th>6</th>\n",
       "      <td>A</td>\n",
       "      <td>A</td>\n",
       "      <td>A</td>\n",
       "      <td>C</td>\n",
       "      <td>B</td>\n",
       "      <td>D</td>\n",
       "      <td>A</td>\n",
       "      <td>E</td>\n",
       "      <td>A</td>\n",
       "      <td>N</td>\n",
       "      <td>...</td>\n",
       "      <td>0.287595</td>\n",
       "      <td>0.686964</td>\n",
       "      <td>0.420667</td>\n",
       "      <td>0.648182</td>\n",
       "      <td>0.684501</td>\n",
       "      <td>0.956692</td>\n",
       "      <td>1.000773</td>\n",
       "      <td>0.776742</td>\n",
       "      <td>0.625849</td>\n",
       "      <td>0.250823</td>\n",
       "    </tr>\n",
       "  </tbody>\n",
       "</table>\n",
       "<p>5 rows × 24 columns</p>\n",
       "</div>"
      ],
      "text/plain": [
       "   cat0 cat1 cat2 cat3 cat4 cat5 cat6 cat7 cat8 cat9  ...     cont4     cont5  \\\n",
       "id                                                    ...                       \n",
       "1     B    B    B    C    B    B    A    E    C    N  ...  0.610706  0.400361   \n",
       "2     B    B    A    A    B    D    A    F    A    O  ...  0.276853  0.533087   \n",
       "3     A    A    A    C    B    D    A    D    A    F  ...  0.285074  0.650609   \n",
       "4     B    B    A    C    B    D    A    E    C    K  ...  0.284667  0.668980   \n",
       "6     A    A    A    C    B    D    A    E    A    N  ...  0.287595  0.686964   \n",
       "\n",
       "       cont6     cont7     cont8     cont9    cont10    cont11    cont12  \\\n",
       "id                                                                         \n",
       "1   0.160266  0.310921  0.389470  0.267559  0.237281  0.377873  0.322401   \n",
       "2   0.558922  0.516294  0.594928  0.341439  0.906013  0.921701  0.261975   \n",
       "3   0.375348  0.902567  0.555205  0.843531  0.748809  0.620126  0.541474   \n",
       "4   0.239061  0.732948  0.679618  0.574844  0.346010  0.714610  0.540150   \n",
       "6   0.420667  0.648182  0.684501  0.956692  1.000773  0.776742  0.625849   \n",
       "\n",
       "      cont13  \n",
       "id            \n",
       "1   0.869850  \n",
       "2   0.465083  \n",
       "3   0.763846  \n",
       "4   0.280682  \n",
       "6   0.250823  \n",
       "\n",
       "[5 rows x 24 columns]"
      ]
     },
     "execution_count": 13,
     "metadata": {},
     "output_type": "execute_result"
    }
   ],
   "source": [
    "# List of categorical columns\n",
    "object_cols = [col for col in features.columns if 'cat' in col]\n",
    "numerical_cols = [cname for cname in train.columns if \n",
    "                train[cname].dtype in ['int64', 'float64']]\n",
    "# ordinal-encode categorical columns\n",
    "X = features.copy()\n",
    "X_test = test.copy()\n",
    "#ordinal_encoder = OrdinalEncoder()\n",
    "#X[object_cols] = ordinal_encoder.fit_transform(features[object_cols])\n",
    "#X_test[object_cols] = ordinal_encoder.transform(test[object_cols])\n",
    "\n",
    "# Preview the ordinal-encoded features\n",
    "X.head()"
   ]
  },
  {
   "cell_type": "code",
   "execution_count": 14,
   "metadata": {
    "execution": {
     "iopub.execute_input": "2021-08-27T17:44:15.683592Z",
     "iopub.status.busy": "2021-08-27T17:44:15.683256Z",
     "iopub.status.idle": "2021-08-27T17:44:15.696464Z",
     "shell.execute_reply": "2021-08-27T17:44:15.695486Z",
     "shell.execute_reply.started": "2021-08-27T17:44:15.683561Z"
    }
   },
   "outputs": [
    {
     "data": {
      "text/plain": [
       "['cat0',\n",
       " 'cat1',\n",
       " 'cat2',\n",
       " 'cat3',\n",
       " 'cat4',\n",
       " 'cat5',\n",
       " 'cat6',\n",
       " 'cat7',\n",
       " 'cat8',\n",
       " 'cat9']"
      ]
     },
     "execution_count": 14,
     "metadata": {},
     "output_type": "execute_result"
    }
   ],
   "source": [
    "cat_selector = make_column_selector(dtype_include=object)\n",
    "num_selector = make_column_selector(dtype_include=np.number)\n",
    "cat_selector(X)"
   ]
  },
  {
   "cell_type": "code",
   "execution_count": 15,
   "metadata": {
    "execution": {
     "iopub.execute_input": "2021-08-27T17:44:15.698519Z",
     "iopub.status.busy": "2021-08-27T17:44:15.698067Z",
     "iopub.status.idle": "2021-08-27T17:44:41.819738Z",
     "shell.execute_reply": "2021-08-27T17:44:41.818463Z",
     "shell.execute_reply.started": "2021-08-27T17:44:15.698482Z"
    }
   },
   "outputs": [
    {
     "data": {
      "text/plain": [
       "'num_rows, num_cols = 4,4\\nf, axes = plt.subplots(nrows=num_rows, ncols=num_cols, figsize=(12, 12))\\nf.suptitle(\\'Distribution of Features\\', fontsize=16)\\n\\nfor index, column in enumerate(train[numerical_cols].columns):\\n    i,j = (index // num_cols, index % num_cols)\\n    g = sns.kdeplot(train[column], color=\"m\", shade=True, label=\"%.2f\"%(train[column].skew()), ax=axes[i,j])\\n    g = g.legend(loc=\"best\")\\n\\nf.delaxes(axes[3, 2])\\nf.delaxes(axes[3, 3])\\nplt.tight_layout()\\nplt.show()'"
      ]
     },
     "execution_count": 15,
     "metadata": {},
     "output_type": "execute_result"
    }
   ],
   "source": [
    "'''num_rows, num_cols = 4,4\n",
    "f, axes = plt.subplots(nrows=num_rows, ncols=num_cols, figsize=(12, 12))\n",
    "f.suptitle('Distribution of Features', fontsize=16)\n",
    "\n",
    "for index, column in enumerate(train[numerical_cols].columns):\n",
    "    i,j = (index // num_cols, index % num_cols)\n",
    "    g = sns.kdeplot(train[column], color=\"m\", shade=True, label=\"%.2f\"%(train[column].skew()), ax=axes[i,j])\n",
    "    g = g.legend(loc=\"best\")\n",
    "\n",
    "f.delaxes(axes[3, 2])\n",
    "f.delaxes(axes[3, 3])\n",
    "plt.tight_layout()\n",
    "plt.show()'''"
   ]
  },
  {
   "cell_type": "code",
   "execution_count": 16,
   "metadata": {
    "execution": {
     "iopub.execute_input": "2021-08-27T17:44:41.822310Z",
     "iopub.status.busy": "2021-08-27T17:44:41.821581Z",
     "iopub.status.idle": "2021-08-27T17:45:29.137435Z",
     "shell.execute_reply": "2021-08-27T17:45:29.136183Z",
     "shell.execute_reply.started": "2021-08-27T17:44:41.822257Z"
    }
   },
   "outputs": [
    {
     "data": {
      "text/plain": [
       "'sns.pairplot(train, kind=\"hist\", corner=True)'"
      ]
     },
     "execution_count": 16,
     "metadata": {},
     "output_type": "execute_result"
    }
   ],
   "source": [
    "'''sns.pairplot(train, kind=\"hist\", corner=True)'''"
   ]
  },
  {
   "cell_type": "code",
   "execution_count": 17,
   "metadata": {
    "execution": {
     "iopub.execute_input": "2021-08-27T17:45:29.139336Z",
     "iopub.status.busy": "2021-08-27T17:45:29.138940Z",
     "iopub.status.idle": "2021-08-27T17:45:31.678859Z",
     "shell.execute_reply": "2021-08-27T17:45:31.677827Z",
     "shell.execute_reply.started": "2021-08-27T17:45:29.139297Z"
    }
   },
   "outputs": [
    {
     "data": {
      "text/plain": [
       "'f, axes = plt.subplots(nrows=3, ncols=1, figsize=(12, 12))\\n\\nf.suptitle(\\'Target\\', fontsize=16)\\ng = sns.kdeplot(train[\\'target\\'], shade=True, label=\"%.2f\"%(train[\\'target\\'].skew()), ax=axes[0])\\ng = g.legend(loc=\"best\")\\nstats.probplot(train[\\'target\\'], plot=axes[1])\\nsns.boxplot(x=\\'target\\', data=train, orient=\\'h\\', ax=axes[2]);\\n\\nplt.tight_layout()\\nplt.show()'"
      ]
     },
     "execution_count": 17,
     "metadata": {},
     "output_type": "execute_result"
    }
   ],
   "source": [
    "'''f, axes = plt.subplots(nrows=3, ncols=1, figsize=(12, 12))\n",
    "\n",
    "f.suptitle('Target', fontsize=16)\n",
    "g = sns.kdeplot(train['target'], shade=True, label=\"%.2f\"%(train['target'].skew()), ax=axes[0])\n",
    "g = g.legend(loc=\"best\")\n",
    "stats.probplot(train['target'], plot=axes[1])\n",
    "sns.boxplot(x='target', data=train, orient='h', ax=axes[2]);\n",
    "\n",
    "plt.tight_layout()\n",
    "plt.show()'''"
   ]
  },
  {
   "cell_type": "code",
   "execution_count": 18,
   "metadata": {
    "execution": {
     "iopub.execute_input": "2021-08-27T17:45:31.680765Z",
     "iopub.status.busy": "2021-08-27T17:45:31.680341Z",
     "iopub.status.idle": "2021-08-27T17:45:32.749928Z",
     "shell.execute_reply": "2021-08-27T17:45:32.748791Z",
     "shell.execute_reply.started": "2021-08-27T17:45:31.680721Z"
    }
   },
   "outputs": [
    {
     "data": {
      "text/plain": [
       "'corr = train[numerical_cols].corr().abs()\\nmask = np.triu(np.ones_like(corr, dtype=np.bool))\\n\\nfig, ax = plt.subplots(figsize=(14, 14))\\n\\n# plot heatmap\\nsns.heatmap(corr, mask=mask, annot=True, fmt=\".2f\", cmap=\\'Blues_r\\',\\n            cbar_kws={\"shrink\": .8}, vmin=0, vmax=1)\\n# yticks\\nplt.yticks(rotation=0)\\nplt.show()'"
      ]
     },
     "execution_count": 18,
     "metadata": {},
     "output_type": "execute_result"
    }
   ],
   "source": [
    "'''corr = train[numerical_cols].corr().abs()\n",
    "mask = np.triu(np.ones_like(corr, dtype=np.bool))\n",
    "\n",
    "fig, ax = plt.subplots(figsize=(14, 14))\n",
    "\n",
    "# plot heatmap\n",
    "sns.heatmap(corr, mask=mask, annot=True, fmt=\".2f\", cmap='Blues_r',\n",
    "            cbar_kws={\"shrink\": .8}, vmin=0, vmax=1)\n",
    "# yticks\n",
    "plt.yticks(rotation=0)\n",
    "plt.show()'''"
   ]
  },
  {
   "cell_type": "code",
   "execution_count": 19,
   "metadata": {
    "execution": {
     "iopub.execute_input": "2021-08-27T17:45:32.751761Z",
     "iopub.status.busy": "2021-08-27T17:45:32.751441Z",
     "iopub.status.idle": "2021-08-27T17:45:37.083303Z",
     "shell.execute_reply": "2021-08-27T17:45:37.082246Z",
     "shell.execute_reply.started": "2021-08-27T17:45:32.751728Z"
    }
   },
   "outputs": [
    {
     "data": {
      "text/plain": [
       "\"num_rows, num_cols = 3,4\\nf, axes = plt.subplots(nrows=num_rows, ncols=num_cols, figsize=(12, 12))\\n#f.suptitle('Distribution of Features', fontsize=16)\\n\\nfor index, column in enumerate(train[object_cols].columns):\\n    i,j = (index // num_cols, index % num_cols)\\n    sns.histplot(x=column, data=train, ax=axes[i,j])\\n\\nf.delaxes(axes[2, 2])\\nf.delaxes(axes[2, 3])\\nplt.tight_layout()\\nplt.show()\""
      ]
     },
     "execution_count": 19,
     "metadata": {},
     "output_type": "execute_result"
    }
   ],
   "source": [
    "'''num_rows, num_cols = 3,4\n",
    "f, axes = plt.subplots(nrows=num_rows, ncols=num_cols, figsize=(12, 12))\n",
    "#f.suptitle('Distribution of Features', fontsize=16)\n",
    "\n",
    "for index, column in enumerate(train[object_cols].columns):\n",
    "    i,j = (index // num_cols, index % num_cols)\n",
    "    sns.histplot(x=column, data=train, ax=axes[i,j])\n",
    "\n",
    "f.delaxes(axes[2, 2])\n",
    "f.delaxes(axes[2, 3])\n",
    "plt.tight_layout()\n",
    "plt.show()'''\n",
    "\n"
   ]
  },
  {
   "cell_type": "markdown",
   "metadata": {},
   "source": [
    "UMAP\n",
    "\n",
    "Only Use Continuous Feature for Dimension Reduction\n"
   ]
  },
  {
   "cell_type": "code",
   "execution_count": 20,
   "metadata": {
    "execution": {
     "iopub.execute_input": "2021-08-27T17:45:37.084979Z",
     "iopub.status.busy": "2021-08-27T17:45:37.084678Z",
     "iopub.status.idle": "2021-08-27T17:46:30.911949Z",
     "shell.execute_reply": "2021-08-27T17:46:30.910796Z",
     "shell.execute_reply.started": "2021-08-27T17:45:37.084948Z"
    }
   },
   "outputs": [
    {
     "data": {
      "text/plain": [
       "\"from umap import UMAP\\n\\n# Dimension Reduction\\ntrain_sub = train.sample(30000)\\ntarget = train_sub['target'] \\ndata_sub = train_sub.drop([col for col in train.columns if 'cat' in col], axis=1)\\n\\numap = UMAP(random_state=0)\\ntrain_umap = umap.fit_transform(data_sub, target)\""
      ]
     },
     "execution_count": 20,
     "metadata": {},
     "output_type": "execute_result"
    }
   ],
   "source": [
    "'''from umap import UMAP\n",
    "\n",
    "# Dimension Reduction\n",
    "train_sub = train.sample(30000)\n",
    "target = train_sub['target'] \n",
    "data_sub = train_sub.drop([col for col in train.columns if 'cat' in col], axis=1)\n",
    "\n",
    "umap = UMAP(random_state=0)\n",
    "train_umap = umap.fit_transform(data_sub, target)'''"
   ]
  },
  {
   "cell_type": "code",
   "execution_count": 21,
   "metadata": {
    "execution": {
     "iopub.execute_input": "2021-08-27T17:46:30.913663Z",
     "iopub.status.busy": "2021-08-27T17:46:30.913371Z",
     "iopub.status.idle": "2021-08-27T17:46:31.297738Z",
     "shell.execute_reply": "2021-08-27T17:46:31.296455Z",
     "shell.execute_reply.started": "2021-08-27T17:46:30.913616Z"
    }
   },
   "outputs": [
    {
     "data": {
      "text/plain": [
       "\", \\n         fontweight='light', fontfamily='serif', fontsize=12, va='top', ha='right')           \\n        \\nplt.tight_layout()\\nplt.show()\""
      ]
     },
     "execution_count": 21,
     "metadata": {},
     "output_type": "execute_result"
    }
   ],
   "source": [
    "'''fig, ax = plt.subplots(2, 2, figsize=(12, 12))\n",
    "\n",
    "ax[0][0].scatter(train_umap[target==1][:,0], train_umap[target==1][:,1], c='#8abbd0', alpha=0.25, label='Target:1')\n",
    "ax[0][0].scatter(train_umap[target==0][:,0], train_umap[target==0][:,1], c='#4a4a4a', alpha=0.25, label='Target:0')\n",
    "\n",
    "\n",
    "ax[0][1].set_visible(False)\n",
    "\n",
    "ax[1][0].scatter(train_umap[target==1][:,0], train_umap[target==1][:,1], c='#8abbd0', alpha=0.25, label='Target:1')\n",
    "ax[1][1].scatter(train_umap[target==0][:,0], train_umap[target==0][:,1], c='#4a4a4a', alpha=0.25, label='Target:0')\n",
    "\n",
    "for i in range(2):\n",
    "    for j in range(2):\n",
    "        ax[i][j].set_xticks([])\n",
    "        ax[i][j].set_yticks([])\n",
    "        for s in [\"top\",\"right\",\"left\", 'bottom']:\n",
    "            ax[i][j].spines[s].set_visible(False)\n",
    "\n",
    "        ax[i][j].legend()\n",
    "\n",
    "# Text Part\n",
    "fig.text(0.97, 1, '[UMAP] Embedding Space', fontweight='bold', fontfamily='serif', fontsize=20, ha='right')   \n",
    "\n",
    "fig.text(0.97, 0.94, '''\n",
    "#In dimension reduction, \n",
    "#you can see that the data with target=0 are gathered in the center.\n",
    "#Performance can be expected when used as a feature.\n",
    "\n",
    "''', \n",
    "         fontweight='light', fontfamily='serif', fontsize=12, va='top', ha='right')           \n",
    "        \n",
    "plt.tight_layout()\n",
    "plt.show()'''"
   ]
  },
  {
   "cell_type": "code",
   "execution_count": 22,
   "metadata": {
    "execution": {
     "iopub.execute_input": "2021-08-27T17:46:31.299353Z",
     "iopub.status.busy": "2021-08-27T17:46:31.299067Z",
     "iopub.status.idle": "2021-08-27T17:46:43.268541Z",
     "shell.execute_reply": "2021-08-27T17:46:43.267560Z",
     "shell.execute_reply.started": "2021-08-27T17:46:31.299326Z"
    }
   },
   "outputs": [],
   "source": [
    "#try:\n",
    "#    import mymodule\n",
    "#except ImportError as e:\n",
    "#    pass  # module doesn't exist, deal with it.\n",
    "#! pip install xlrd\n",
    "#! pip install autoviz"
   ]
  },
  {
   "cell_type": "code",
   "execution_count": 23,
   "metadata": {
    "execution": {
     "iopub.execute_input": "2021-08-27T17:46:43.274232Z",
     "iopub.status.busy": "2021-08-27T17:46:43.273869Z",
     "iopub.status.idle": "2021-08-27T17:51:04.657047Z",
     "shell.execute_reply": "2021-08-27T17:51:04.655768Z",
     "shell.execute_reply.started": "2021-08-27T17:46:43.274197Z"
    }
   },
   "outputs": [
    {
     "data": {
      "text/plain": [
       "\"from autoviz.AutoViz_Class import AutoViz_Class\\n\\nAV = AutoViz_Class()\\ndftc = AV.AutoViz(\\n    filename='', \\n    sep='' , \\n    depVar='target', \\n    dfte=train, \\n    header=0, \\n    verbose=2, \\n    lowess=False, \\n    chart_format='png', \\n    max_rows_analyzed=300000, \\n    max_cols_analyzed=30\\n)\""
      ]
     },
     "execution_count": 23,
     "metadata": {},
     "output_type": "execute_result"
    }
   ],
   "source": [
    "'''from autoviz.AutoViz_Class import AutoViz_Class\n",
    "\n",
    "AV = AutoViz_Class()\n",
    "dftc = AV.AutoViz(\n",
    "    filename='', \n",
    "    sep='' , \n",
    "    depVar='target', \n",
    "    dfte=train, \n",
    "    header=0, \n",
    "    verbose=2, \n",
    "    lowess=False, \n",
    "    chart_format='png', \n",
    "    max_rows_analyzed=300000, \n",
    "    max_cols_analyzed=30\n",
    ")'''"
   ]
  },
  {
   "cell_type": "code",
   "execution_count": 24,
   "metadata": {
    "execution": {
     "iopub.execute_input": "2021-08-27T17:51:04.660199Z",
     "iopub.status.busy": "2021-08-27T17:51:04.659795Z",
     "iopub.status.idle": "2021-08-27T17:51:04.672814Z",
     "shell.execute_reply": "2021-08-27T17:51:04.671741Z",
     "shell.execute_reply.started": "2021-08-27T17:51:04.660161Z"
    }
   },
   "outputs": [
    {
     "data": {
      "text/plain": [
       "ColumnTransformer(transformers=[('simpleimputer',\n",
       "                                 SimpleImputer(add_indicator=True),\n",
       "                                 <sklearn.compose._column_transformer.make_column_selector object at 0x000001B225B79490>),\n",
       "                                ('ordinalencoder',\n",
       "                                 OrdinalEncoder(handle_unknown='use_encoded_value',\n",
       "                                                unknown_value=-1),\n",
       "                                 <sklearn.compose._column_transformer.make_column_selector object at 0x000001B225B79550>)])"
      ]
     },
     "execution_count": 24,
     "metadata": {},
     "output_type": "execute_result"
    }
   ],
   "source": [
    "cat_tree_processor = OrdinalEncoder(\n",
    "    handle_unknown=\"use_encoded_value\", unknown_value=-1)\n",
    "num_tree_processor = SimpleImputer(strategy=\"mean\", add_indicator=True)\n",
    "\n",
    "tree_preprocessor = make_column_transformer(\n",
    "    (num_tree_processor, num_selector), (cat_tree_processor, cat_selector))\n",
    "tree_preprocessor"
   ]
  },
  {
   "cell_type": "code",
   "execution_count": 25,
   "metadata": {
    "execution": {
     "iopub.execute_input": "2021-08-27T17:51:04.674869Z",
     "iopub.status.busy": "2021-08-27T17:51:04.674421Z",
     "iopub.status.idle": "2021-08-27T17:51:04.684422Z",
     "shell.execute_reply": "2021-08-27T17:51:04.683278Z",
     "shell.execute_reply.started": "2021-08-27T17:51:04.674829Z"
    }
   },
   "outputs": [],
   "source": [
    "N_FEATURES_OPTIONS = [2, 4,  12,  20, 24]          #[2, 4, 8, 12, 16, 20, 24]"
   ]
  },
  {
   "cell_type": "code",
   "execution_count": 26,
   "metadata": {
    "execution": {
     "iopub.execute_input": "2021-08-27T17:51:04.686385Z",
     "iopub.status.busy": "2021-08-27T17:51:04.685906Z",
     "iopub.status.idle": "2021-08-27T17:51:04.700344Z",
     "shell.execute_reply": "2021-08-27T17:51:04.699113Z",
     "shell.execute_reply.started": "2021-08-27T17:51:04.686342Z"
    }
   },
   "outputs": [],
   "source": [
    "cv = KFold(10, shuffle  = True, random_state = RANDOM_STATE)"
   ]
  },
  {
   "cell_type": "markdown",
   "metadata": {},
   "source": [
    "Next, we break off a validation set from the training data."
   ]
  },
  {
   "cell_type": "code",
   "execution_count": 27,
   "metadata": {
    "execution": {
     "iopub.execute_input": "2021-08-27T17:51:04.702263Z",
     "iopub.status.busy": "2021-08-27T17:51:04.701909Z",
     "iopub.status.idle": "2021-08-27T17:51:04.848740Z",
     "shell.execute_reply": "2021-08-27T17:51:04.847686Z",
     "shell.execute_reply.started": "2021-08-27T17:51:04.702229Z"
    }
   },
   "outputs": [],
   "source": [
    "X_train, X_valid, y_train, y_valid = train_test_split(X, y, random_state = RANDOM_STATE)"
   ]
  },
  {
   "cell_type": "code",
   "execution_count": 28,
   "metadata": {
    "execution": {
     "iopub.execute_input": "2021-08-27T17:51:04.850772Z",
     "iopub.status.busy": "2021-08-27T17:51:04.850320Z",
     "iopub.status.idle": "2021-08-27T17:51:05.031655Z",
     "shell.execute_reply": "2021-08-27T17:51:05.030651Z",
     "shell.execute_reply.started": "2021-08-27T17:51:04.850723Z"
    }
   },
   "outputs": [
    {
     "data": {
      "text/html": [
       "<div>\n",
       "<style scoped>\n",
       "    .dataframe tbody tr th:only-of-type {\n",
       "        vertical-align: middle;\n",
       "    }\n",
       "\n",
       "    .dataframe tbody tr th {\n",
       "        vertical-align: top;\n",
       "    }\n",
       "\n",
       "    .dataframe thead th {\n",
       "        text-align: right;\n",
       "    }\n",
       "</style>\n",
       "<table border=\"1\" class=\"dataframe\">\n",
       "  <thead>\n",
       "    <tr style=\"text-align: right;\">\n",
       "      <th></th>\n",
       "      <th>cat0</th>\n",
       "      <th>cat1</th>\n",
       "      <th>cat2</th>\n",
       "      <th>cat3</th>\n",
       "      <th>cat4</th>\n",
       "      <th>cat5</th>\n",
       "      <th>cat6</th>\n",
       "      <th>cat7</th>\n",
       "      <th>cat8</th>\n",
       "      <th>cat9</th>\n",
       "      <th>...</th>\n",
       "      <th>cont4</th>\n",
       "      <th>cont5</th>\n",
       "      <th>cont6</th>\n",
       "      <th>cont7</th>\n",
       "      <th>cont8</th>\n",
       "      <th>cont9</th>\n",
       "      <th>cont10</th>\n",
       "      <th>cont11</th>\n",
       "      <th>cont12</th>\n",
       "      <th>cont13</th>\n",
       "    </tr>\n",
       "    <tr>\n",
       "      <th>id</th>\n",
       "      <th></th>\n",
       "      <th></th>\n",
       "      <th></th>\n",
       "      <th></th>\n",
       "      <th></th>\n",
       "      <th></th>\n",
       "      <th></th>\n",
       "      <th></th>\n",
       "      <th></th>\n",
       "      <th></th>\n",
       "      <th></th>\n",
       "      <th></th>\n",
       "      <th></th>\n",
       "      <th></th>\n",
       "      <th></th>\n",
       "      <th></th>\n",
       "      <th></th>\n",
       "      <th></th>\n",
       "      <th></th>\n",
       "      <th></th>\n",
       "      <th></th>\n",
       "    </tr>\n",
       "  </thead>\n",
       "  <tbody>\n",
       "    <tr>\n",
       "      <th>216313</th>\n",
       "      <td>B</td>\n",
       "      <td>A</td>\n",
       "      <td>A</td>\n",
       "      <td>C</td>\n",
       "      <td>B</td>\n",
       "      <td>D</td>\n",
       "      <td>A</td>\n",
       "      <td>E</td>\n",
       "      <td>E</td>\n",
       "      <td>J</td>\n",
       "      <td>...</td>\n",
       "      <td>0.314193</td>\n",
       "      <td>0.760721</td>\n",
       "      <td>0.370251</td>\n",
       "      <td>0.514081</td>\n",
       "      <td>0.594438</td>\n",
       "      <td>0.342460</td>\n",
       "      <td>0.729278</td>\n",
       "      <td>0.276733</td>\n",
       "      <td>0.805140</td>\n",
       "      <td>0.857009</td>\n",
       "    </tr>\n",
       "    <tr>\n",
       "      <th>237018</th>\n",
       "      <td>B</td>\n",
       "      <td>B</td>\n",
       "      <td>A</td>\n",
       "      <td>A</td>\n",
       "      <td>B</td>\n",
       "      <td>B</td>\n",
       "      <td>A</td>\n",
       "      <td>E</td>\n",
       "      <td>E</td>\n",
       "      <td>G</td>\n",
       "      <td>...</td>\n",
       "      <td>0.351498</td>\n",
       "      <td>0.194166</td>\n",
       "      <td>0.358321</td>\n",
       "      <td>0.311238</td>\n",
       "      <td>0.258699</td>\n",
       "      <td>0.437546</td>\n",
       "      <td>0.688655</td>\n",
       "      <td>0.362859</td>\n",
       "      <td>0.233861</td>\n",
       "      <td>0.475991</td>\n",
       "    </tr>\n",
       "    <tr>\n",
       "      <th>12977</th>\n",
       "      <td>B</td>\n",
       "      <td>B</td>\n",
       "      <td>A</td>\n",
       "      <td>C</td>\n",
       "      <td>B</td>\n",
       "      <td>D</td>\n",
       "      <td>A</td>\n",
       "      <td>D</td>\n",
       "      <td>A</td>\n",
       "      <td>O</td>\n",
       "      <td>...</td>\n",
       "      <td>0.913592</td>\n",
       "      <td>0.866297</td>\n",
       "      <td>0.589529</td>\n",
       "      <td>0.885561</td>\n",
       "      <td>0.872805</td>\n",
       "      <td>0.833381</td>\n",
       "      <td>1.048227</td>\n",
       "      <td>0.430139</td>\n",
       "      <td>0.932058</td>\n",
       "      <td>0.587268</td>\n",
       "    </tr>\n",
       "    <tr>\n",
       "      <th>70224</th>\n",
       "      <td>A</td>\n",
       "      <td>B</td>\n",
       "      <td>A</td>\n",
       "      <td>C</td>\n",
       "      <td>B</td>\n",
       "      <td>B</td>\n",
       "      <td>A</td>\n",
       "      <td>E</td>\n",
       "      <td>C</td>\n",
       "      <td>H</td>\n",
       "      <td>...</td>\n",
       "      <td>0.767636</td>\n",
       "      <td>0.343027</td>\n",
       "      <td>0.269991</td>\n",
       "      <td>0.231929</td>\n",
       "      <td>0.605238</td>\n",
       "      <td>0.171806</td>\n",
       "      <td>0.322880</td>\n",
       "      <td>0.321300</td>\n",
       "      <td>0.197064</td>\n",
       "      <td>0.200458</td>\n",
       "    </tr>\n",
       "    <tr>\n",
       "      <th>447936</th>\n",
       "      <td>B</td>\n",
       "      <td>B</td>\n",
       "      <td>A</td>\n",
       "      <td>C</td>\n",
       "      <td>B</td>\n",
       "      <td>B</td>\n",
       "      <td>A</td>\n",
       "      <td>E</td>\n",
       "      <td>E</td>\n",
       "      <td>A</td>\n",
       "      <td>...</td>\n",
       "      <td>0.747087</td>\n",
       "      <td>0.400603</td>\n",
       "      <td>0.629036</td>\n",
       "      <td>0.898131</td>\n",
       "      <td>0.388709</td>\n",
       "      <td>0.306797</td>\n",
       "      <td>0.287512</td>\n",
       "      <td>0.594247</td>\n",
       "      <td>0.343796</td>\n",
       "      <td>0.293591</td>\n",
       "    </tr>\n",
       "    <tr>\n",
       "      <th>...</th>\n",
       "      <td>...</td>\n",
       "      <td>...</td>\n",
       "      <td>...</td>\n",
       "      <td>...</td>\n",
       "      <td>...</td>\n",
       "      <td>...</td>\n",
       "      <td>...</td>\n",
       "      <td>...</td>\n",
       "      <td>...</td>\n",
       "      <td>...</td>\n",
       "      <td>...</td>\n",
       "      <td>...</td>\n",
       "      <td>...</td>\n",
       "      <td>...</td>\n",
       "      <td>...</td>\n",
       "      <td>...</td>\n",
       "      <td>...</td>\n",
       "      <td>...</td>\n",
       "      <td>...</td>\n",
       "      <td>...</td>\n",
       "      <td>...</td>\n",
       "    </tr>\n",
       "    <tr>\n",
       "      <th>199831</th>\n",
       "      <td>A</td>\n",
       "      <td>A</td>\n",
       "      <td>A</td>\n",
       "      <td>C</td>\n",
       "      <td>B</td>\n",
       "      <td>D</td>\n",
       "      <td>A</td>\n",
       "      <td>D</td>\n",
       "      <td>A</td>\n",
       "      <td>F</td>\n",
       "      <td>...</td>\n",
       "      <td>0.462919</td>\n",
       "      <td>0.770884</td>\n",
       "      <td>0.594021</td>\n",
       "      <td>1.032560</td>\n",
       "      <td>0.905694</td>\n",
       "      <td>0.852805</td>\n",
       "      <td>0.809571</td>\n",
       "      <td>0.358780</td>\n",
       "      <td>0.823077</td>\n",
       "      <td>0.865032</td>\n",
       "    </tr>\n",
       "    <tr>\n",
       "      <th>432183</th>\n",
       "      <td>B</td>\n",
       "      <td>A</td>\n",
       "      <td>A</td>\n",
       "      <td>D</td>\n",
       "      <td>B</td>\n",
       "      <td>B</td>\n",
       "      <td>A</td>\n",
       "      <td>E</td>\n",
       "      <td>E</td>\n",
       "      <td>B</td>\n",
       "      <td>...</td>\n",
       "      <td>0.267991</td>\n",
       "      <td>0.135453</td>\n",
       "      <td>0.361353</td>\n",
       "      <td>0.900748</td>\n",
       "      <td>0.468781</td>\n",
       "      <td>0.267659</td>\n",
       "      <td>0.695161</td>\n",
       "      <td>0.421088</td>\n",
       "      <td>0.841941</td>\n",
       "      <td>0.615257</td>\n",
       "    </tr>\n",
       "    <tr>\n",
       "      <th>219870</th>\n",
       "      <td>B</td>\n",
       "      <td>A</td>\n",
       "      <td>B</td>\n",
       "      <td>C</td>\n",
       "      <td>B</td>\n",
       "      <td>D</td>\n",
       "      <td>A</td>\n",
       "      <td>E</td>\n",
       "      <td>A</td>\n",
       "      <td>F</td>\n",
       "      <td>...</td>\n",
       "      <td>0.609992</td>\n",
       "      <td>0.532580</td>\n",
       "      <td>0.705946</td>\n",
       "      <td>0.896323</td>\n",
       "      <td>0.639372</td>\n",
       "      <td>0.598032</td>\n",
       "      <td>0.490381</td>\n",
       "      <td>0.134411</td>\n",
       "      <td>0.764455</td>\n",
       "      <td>0.240164</td>\n",
       "    </tr>\n",
       "    <tr>\n",
       "      <th>244794</th>\n",
       "      <td>B</td>\n",
       "      <td>A</td>\n",
       "      <td>A</td>\n",
       "      <td>C</td>\n",
       "      <td>B</td>\n",
       "      <td>D</td>\n",
       "      <td>A</td>\n",
       "      <td>E</td>\n",
       "      <td>G</td>\n",
       "      <td>J</td>\n",
       "      <td>...</td>\n",
       "      <td>0.287600</td>\n",
       "      <td>0.823809</td>\n",
       "      <td>0.331300</td>\n",
       "      <td>0.369129</td>\n",
       "      <td>0.601829</td>\n",
       "      <td>0.506245</td>\n",
       "      <td>0.583071</td>\n",
       "      <td>0.429652</td>\n",
       "      <td>0.776692</td>\n",
       "      <td>0.662461</td>\n",
       "    </tr>\n",
       "    <tr>\n",
       "      <th>203204</th>\n",
       "      <td>A</td>\n",
       "      <td>A</td>\n",
       "      <td>A</td>\n",
       "      <td>C</td>\n",
       "      <td>B</td>\n",
       "      <td>B</td>\n",
       "      <td>A</td>\n",
       "      <td>E</td>\n",
       "      <td>G</td>\n",
       "      <td>O</td>\n",
       "      <td>...</td>\n",
       "      <td>0.470788</td>\n",
       "      <td>0.534080</td>\n",
       "      <td>0.406940</td>\n",
       "      <td>0.582168</td>\n",
       "      <td>0.390355</td>\n",
       "      <td>0.314702</td>\n",
       "      <td>0.089503</td>\n",
       "      <td>0.422187</td>\n",
       "      <td>0.390418</td>\n",
       "      <td>0.811794</td>\n",
       "    </tr>\n",
       "  </tbody>\n",
       "</table>\n",
       "<p>225000 rows × 24 columns</p>\n",
       "</div>"
      ],
      "text/plain": [
       "       cat0 cat1 cat2 cat3 cat4 cat5 cat6 cat7 cat8 cat9  ...     cont4  \\\n",
       "id                                                        ...             \n",
       "216313    B    A    A    C    B    D    A    E    E    J  ...  0.314193   \n",
       "237018    B    B    A    A    B    B    A    E    E    G  ...  0.351498   \n",
       "12977     B    B    A    C    B    D    A    D    A    O  ...  0.913592   \n",
       "70224     A    B    A    C    B    B    A    E    C    H  ...  0.767636   \n",
       "447936    B    B    A    C    B    B    A    E    E    A  ...  0.747087   \n",
       "...     ...  ...  ...  ...  ...  ...  ...  ...  ...  ...  ...       ...   \n",
       "199831    A    A    A    C    B    D    A    D    A    F  ...  0.462919   \n",
       "432183    B    A    A    D    B    B    A    E    E    B  ...  0.267991   \n",
       "219870    B    A    B    C    B    D    A    E    A    F  ...  0.609992   \n",
       "244794    B    A    A    C    B    D    A    E    G    J  ...  0.287600   \n",
       "203204    A    A    A    C    B    B    A    E    G    O  ...  0.470788   \n",
       "\n",
       "           cont5     cont6     cont7     cont8     cont9    cont10    cont11  \\\n",
       "id                                                                             \n",
       "216313  0.760721  0.370251  0.514081  0.594438  0.342460  0.729278  0.276733   \n",
       "237018  0.194166  0.358321  0.311238  0.258699  0.437546  0.688655  0.362859   \n",
       "12977   0.866297  0.589529  0.885561  0.872805  0.833381  1.048227  0.430139   \n",
       "70224   0.343027  0.269991  0.231929  0.605238  0.171806  0.322880  0.321300   \n",
       "447936  0.400603  0.629036  0.898131  0.388709  0.306797  0.287512  0.594247   \n",
       "...          ...       ...       ...       ...       ...       ...       ...   \n",
       "199831  0.770884  0.594021  1.032560  0.905694  0.852805  0.809571  0.358780   \n",
       "432183  0.135453  0.361353  0.900748  0.468781  0.267659  0.695161  0.421088   \n",
       "219870  0.532580  0.705946  0.896323  0.639372  0.598032  0.490381  0.134411   \n",
       "244794  0.823809  0.331300  0.369129  0.601829  0.506245  0.583071  0.429652   \n",
       "203204  0.534080  0.406940  0.582168  0.390355  0.314702  0.089503  0.422187   \n",
       "\n",
       "          cont12    cont13  \n",
       "id                          \n",
       "216313  0.805140  0.857009  \n",
       "237018  0.233861  0.475991  \n",
       "12977   0.932058  0.587268  \n",
       "70224   0.197064  0.200458  \n",
       "447936  0.343796  0.293591  \n",
       "...          ...       ...  \n",
       "199831  0.823077  0.865032  \n",
       "432183  0.841941  0.615257  \n",
       "219870  0.764455  0.240164  \n",
       "244794  0.776692  0.662461  \n",
       "203204  0.390418  0.811794  \n",
       "\n",
       "[225000 rows x 24 columns]"
      ]
     },
     "execution_count": 28,
     "metadata": {},
     "output_type": "execute_result"
    }
   ],
   "source": [
    "X_train"
   ]
  },
  {
   "cell_type": "code",
   "execution_count": 29,
   "metadata": {
    "execution": {
     "iopub.execute_input": "2021-08-27T17:51:05.033812Z",
     "iopub.status.busy": "2021-08-27T17:51:05.033361Z",
     "iopub.status.idle": "2021-08-27T17:51:05.300005Z",
     "shell.execute_reply": "2021-08-27T17:51:05.298942Z",
     "shell.execute_reply.started": "2021-08-27T17:51:05.033776Z"
    }
   },
   "outputs": [],
   "source": [
    "Xc = X_train.copy()\n",
    "yc =y_train.copy()\n",
    "\n",
    "# Label encoding for categoricals\n",
    "for colname in Xc.select_dtypes(\"object\"):\n",
    "    Xc[colname], _ = Xc[colname].factorize()\n",
    "\n",
    "# All discrete features should now have integer dtypes (double-check this before using MI!)\n",
    "object_cols = Xc.dtypes == int    "
   ]
  },
  {
   "cell_type": "code",
   "execution_count": 30,
   "metadata": {
    "execution": {
     "iopub.execute_input": "2021-08-27T17:51:05.302729Z",
     "iopub.status.busy": "2021-08-27T17:51:05.302198Z",
     "iopub.status.idle": "2021-08-27T17:51:05.333906Z",
     "shell.execute_reply": "2021-08-27T17:51:05.332588Z",
     "shell.execute_reply.started": "2021-08-27T17:51:05.302665Z"
    }
   },
   "outputs": [
    {
     "name": "stdout",
     "output_type": "stream",
     "text": [
      "<class 'pandas.core.frame.DataFrame'>\n",
      "Int64Index: 225000 entries, 216313 to 203204\n",
      "Data columns (total 24 columns):\n",
      " #   Column  Non-Null Count   Dtype  \n",
      "---  ------  --------------   -----  \n",
      " 0   cat0    225000 non-null  int64  \n",
      " 1   cat1    225000 non-null  int64  \n",
      " 2   cat2    225000 non-null  int64  \n",
      " 3   cat3    225000 non-null  int64  \n",
      " 4   cat4    225000 non-null  int64  \n",
      " 5   cat5    225000 non-null  int64  \n",
      " 6   cat6    225000 non-null  int64  \n",
      " 7   cat7    225000 non-null  int64  \n",
      " 8   cat8    225000 non-null  int64  \n",
      " 9   cat9    225000 non-null  int64  \n",
      " 10  cont0   225000 non-null  float64\n",
      " 11  cont1   225000 non-null  float64\n",
      " 12  cont2   225000 non-null  float64\n",
      " 13  cont3   225000 non-null  float64\n",
      " 14  cont4   225000 non-null  float64\n",
      " 15  cont5   225000 non-null  float64\n",
      " 16  cont6   225000 non-null  float64\n",
      " 17  cont7   225000 non-null  float64\n",
      " 18  cont8   225000 non-null  float64\n",
      " 19  cont9   225000 non-null  float64\n",
      " 20  cont10  225000 non-null  float64\n",
      " 21  cont11  225000 non-null  float64\n",
      " 22  cont12  225000 non-null  float64\n",
      " 23  cont13  225000 non-null  float64\n",
      "dtypes: float64(14), int64(10)\n",
      "memory usage: 42.9 MB\n"
     ]
    }
   ],
   "source": [
    "Xc.info()"
   ]
  },
  {
   "cell_type": "code",
   "execution_count": 31,
   "metadata": {
    "execution": {
     "iopub.execute_input": "2021-08-27T17:51:05.337170Z",
     "iopub.status.busy": "2021-08-27T17:51:05.336786Z",
     "iopub.status.idle": "2021-08-27T17:51:05.361697Z",
     "shell.execute_reply": "2021-08-27T17:51:05.360675Z",
     "shell.execute_reply.started": "2021-08-27T17:51:05.337137Z"
    }
   },
   "outputs": [
    {
     "data": {
      "text/plain": [
       "numpy.int64"
      ]
     },
     "execution_count": 31,
     "metadata": {},
     "output_type": "execute_result"
    }
   ],
   "source": [
    "type(Xc['cat0'][2])"
   ]
  },
  {
   "cell_type": "code",
   "execution_count": 32,
   "metadata": {
    "execution": {
     "iopub.execute_input": "2021-08-27T17:51:05.363315Z",
     "iopub.status.busy": "2021-08-27T17:51:05.363009Z",
     "iopub.status.idle": "2021-08-27T17:51:05.372628Z",
     "shell.execute_reply": "2021-08-27T17:51:05.371804Z",
     "shell.execute_reply.started": "2021-08-27T17:51:05.363285Z"
    }
   },
   "outputs": [],
   "source": [
    "from sklearn.feature_selection import mutual_info_regression\n",
    "def make_mi_scores(X, y):\n",
    "    X = X.copy()\n",
    "    for colname in X.select_dtypes([\"object\", \"category\"]):\n",
    "        X[colname], _ = X[colname].factorize()\n",
    "    # All discrete features should now have integer dtypes\n",
    "    discrete_features = [pd.api.types.is_integer_dtype(t) for t in X.dtypes]\n",
    "    mi_scores = mutual_info_regression(X, y, discrete_features=discrete_features, random_state=0)\n",
    "    mi_scores = pd.Series(mi_scores, name=\"MI Scores\", index=X.columns)\n",
    "    mi_scores = mi_scores.sort_values(ascending=False)\n",
    "    return mi_scores\n",
    "\n",
    "\n",
    "def plot_mi_scores(scores):\n",
    "    scores = scores.sort_values(ascending=True)\n",
    "    width = np.arange(len(scores))\n",
    "    ticks = list(scores.index)\n",
    "    color = np.array([\"C0\"] * scores.shape[0])\n",
    "    # Color red for probes\n",
    "    idx = [i for i, col in enumerate(scores.index)\n",
    "           if col.startswith(\"PROBE\")]\n",
    "    color[idx] = \"C3\"\n",
    "    # Create plot\n",
    "    plt.barh(width, scores, color=color)\n",
    "    plt.yticks(width, ticks)\n",
    "    plt.title(\"Mutual Information Scores\")"
   ]
  },
  {
   "cell_type": "code",
   "execution_count": 33,
   "metadata": {
    "execution": {
     "iopub.execute_input": "2021-08-27T17:51:05.374028Z",
     "iopub.status.busy": "2021-08-27T17:51:05.373757Z",
     "iopub.status.idle": "2021-08-27T17:52:23.362125Z",
     "shell.execute_reply": "2021-08-27T17:52:23.360961Z",
     "shell.execute_reply.started": "2021-08-27T17:51:05.374001Z"
    }
   },
   "outputs": [],
   "source": [
    "mi_scores = make_mi_scores(X_train, y_train)"
   ]
  },
  {
   "cell_type": "code",
   "execution_count": 34,
   "metadata": {
    "execution": {
     "iopub.execute_input": "2021-08-27T17:52:23.364363Z",
     "iopub.status.busy": "2021-08-27T17:52:23.364003Z",
     "iopub.status.idle": "2021-08-27T17:52:23.656964Z",
     "shell.execute_reply": "2021-08-27T17:52:23.655912Z",
     "shell.execute_reply.started": "2021-08-27T17:52:23.364327Z"
    }
   },
   "outputs": [
    {
     "name": "stdout",
     "output_type": "stream",
     "text": [
      "cont12    0.022814\n",
      "cont10    0.018945\n",
      "cont9     0.010004\n",
      "cont2     0.009632\n",
      "cat8      0.009285\n",
      "cont3     0.008866\n",
      "cont4     0.008835\n",
      "cat5      0.008541\n",
      "cont7     0.007951\n",
      "cont8     0.007818\n",
      "cont0     0.005690\n",
      "cat1      0.005297\n",
      "cont5     0.005255\n",
      "cont11    0.005236\n",
      "cont6     0.003730\n",
      "cat9      0.002877\n",
      "cont13    0.001562\n",
      "cont1     0.001428\n",
      "cat7      0.001260\n",
      "cat0      0.001167\n",
      "Name: MI Scores, dtype: float64\n"
     ]
    },
    {
     "data": {
      "image/png": "[encoded data removed]",
      "text/plain": [
       "<Figure size 800x500 with 1 Axes>"
      ]
     },
     "metadata": {},
     "output_type": "display_data"
    }
   ],
   "source": [
    "print(mi_scores.head(20))\n",
    "# print(mi_scores.tail(20))  # uncomment to see bottom 20\n",
    "\n",
    "plt.figure(dpi=100, figsize=(8, 5))\n",
    "plot_mi_scores(mi_scores.head(20))\n",
    "# plot_mi_scores(mi_scores.tail(20))  # uncomment to see bottom 20"
   ]
  },
  {
   "cell_type": "code",
   "execution_count": 35,
   "metadata": {
    "execution": {
     "iopub.execute_input": "2021-08-27T17:52:23.658581Z",
     "iopub.status.busy": "2021-08-27T17:52:23.658281Z",
     "iopub.status.idle": "2021-08-27T17:52:23.666935Z",
     "shell.execute_reply": "2021-08-27T17:52:23.665836Z",
     "shell.execute_reply.started": "2021-08-27T17:52:23.658552Z"
    }
   },
   "outputs": [],
   "source": [
    "def plot_variance(pca, width=8, dpi=100):\n",
    "    # Create figure\n",
    "    fig, axs = plt.subplots(1, 2)\n",
    "    n = pca.n_components_\n",
    "    grid = np.arange(1, n + 1)\n",
    "    # Explained variance\n",
    "    evr = pca.explained_variance_ratio_\n",
    "    axs[0].bar(grid, evr)\n",
    "    axs[0].set(\n",
    "        xlabel=\"Component\", title=\"% Explained Variance\", ylim=(0.0, 1.0)\n",
    "    )\n",
    "    # Cumulative Variance\n",
    "    cv = np.cumsum(evr)\n",
    "    axs[1].plot(np.r_[0, grid], np.r_[0, cv], \"o-\")\n",
    "    axs[1].set(\n",
    "        xlabel=\"Component\", title=\"% Cumulative Variance\", ylim=(0.0, 1.0)\n",
    "    )\n",
    "    # Set up figure\n",
    "    fig.set(figwidth=8, dpi=100)\n",
    "    return axs\n",
    "\n",
    "def make_mi_scores(X, y, discrete_features):\n",
    "    mi_scores = mutual_info_regression(X, y, discrete_features=discrete_features)\n",
    "    mi_scores = pd.Series(mi_scores, name=\"MI Scores\", index=X.columns)\n",
    "    mi_scores = mi_scores.sort_values(ascending=False)\n",
    "    return mi_scores"
   ]
  },
  {
   "cell_type": "code",
   "execution_count": 36,
   "metadata": {
    "execution": {
     "iopub.execute_input": "2021-08-27T17:52:23.668707Z",
     "iopub.status.busy": "2021-08-27T17:52:23.668361Z",
     "iopub.status.idle": "2021-08-27T17:52:24.479898Z",
     "shell.execute_reply": "2021-08-27T17:52:24.478731Z",
     "shell.execute_reply.started": "2021-08-27T17:52:23.668666Z"
    }
   },
   "outputs": [
    {
     "data": {
      "image/png": "[encoded data removed]",
      "text/plain": [
       "<Figure size 800x400 with 2 Axes>"
      ]
     },
     "metadata": {},
     "output_type": "display_data"
    }
   ],
   "source": [
    "# Standardize\n",
    "Xc_scaled = (Xc - Xc.mean(axis=0)) / Xc.std(axis=0)\n",
    "\n",
    "from sklearn.decomposition import PCA\n",
    "\n",
    "# Create principal components\n",
    "pca = PCA()\n",
    "Xc_pca = pca.fit_transform(Xc_scaled)\n",
    "\n",
    "# Convert to dataframe\n",
    "component_names = [f\"PC{i+1}\" for i in range(Xc_pca.shape[1])]\n",
    "Xc_pca = pd.DataFrame(Xc_pca, columns=component_names)\n",
    "\n",
    "Xc_pca.head()\n",
    "\n",
    "\n",
    "loadings = pd.DataFrame(\n",
    "    pca.components_.T,  # transpose the matrix of loadings\n",
    "    columns=component_names,  # so the columns are the principal components\n",
    "    index=Xc.columns,  # and the rows are the original features\n",
    ")\n",
    "\n",
    "plot_variance(pca);"
   ]
  },
  {
   "cell_type": "markdown",
   "metadata": {},
   "source": [
    "# Step 4: Train a model\n",
    "\n",
    "Now that the data is prepared, the next step is to train a model.  \n",
    "\n",
    "If you took the **[Intro to Machine Learning](https://www.kaggle.com/learn/intro-to-machine-learning)** courses, then you learned about **[Random Forests](https://www.kaggle.com/dansbecker/random-forests)**.  In the code cell below, we fit a random forest model to the data."
   ]
  },
  {
   "cell_type": "code",
   "execution_count": 37,
   "metadata": {},
   "outputs": [
    {
     "data": {
      "text/plain": [
       "'continuous'"
      ]
     },
     "execution_count": 37,
     "metadata": {},
     "output_type": "execute_result"
    }
   ],
   "source": [
    "from sklearn.utils.multiclass import type_of_target\n",
    "type_of_target(y_train)"
   ]
  },
  {
   "cell_type": "code",
   "execution_count": 38,
   "metadata": {},
   "outputs": [
    {
     "data": {
      "text/plain": [
       "Pipeline(steps=[('columntransformer',\n",
       "                 ColumnTransformer(transformers=[('simpleimputer',\n",
       "                                                  SimpleImputer(add_indicator=True),\n",
       "                                                  <sklearn.compose._column_transformer.make_column_selector object at 0x000001B225B79490>),\n",
       "                                                 ('ordinalencoder',\n",
       "                                                  OrdinalEncoder(handle_unknown='use_encoded_value',\n",
       "                                                                 unknown_value=-1),\n",
       "                                                  <sklearn.compose._column_transformer.make_column_selector object at 0x000001B225B79550>)])),\n",
       "                ('pca', PCA(random_state=42)),\n",
       "                ('randomforestregressor',\n",
       "                 RandomForestRegressor(random_state=42))])"
      ]
     },
     "execution_count": 38,
     "metadata": {},
     "output_type": "execute_result"
    }
   ],
   "source": [
    "rf_pipeline = make_pipeline(\n",
    "    tree_preprocessor, PCA(random_state = RANDOM_STATE), RandomForestRegressor(random_state = RANDOM_STATE ))\n",
    "rf_pipeline"
   ]
  },
  {
   "cell_type": "code",
   "execution_count": 39,
   "metadata": {},
   "outputs": [
    {
     "data": {
      "text/plain": [
       "ColumnTransformer(transformers=[('pipeline',\n",
       "                                 Pipeline(steps=[('standardscaler',\n",
       "                                                  StandardScaler()),\n",
       "                                                 ('simpleimputer',\n",
       "                                                  SimpleImputer(add_indicator=True))]),\n",
       "                                 <sklearn.compose._column_transformer.make_column_selector object at 0x000001B225B79490>),\n",
       "                                ('onehotencoder',\n",
       "                                 OneHotEncoder(handle_unknown='ignore'),\n",
       "                                 <sklearn.compose._column_transformer.make_column_selector object at 0x000001B225B79550>)])"
      ]
     },
     "execution_count": 39,
     "metadata": {},
     "output_type": "execute_result"
    }
   ],
   "source": [
    "from sklearn.preprocessing import OneHotEncoder\n",
    "from sklearn.preprocessing import StandardScaler\n",
    "\n",
    "cat_linear_processor = OneHotEncoder(handle_unknown=\"ignore\")\n",
    "num_linear_processor = make_pipeline(\n",
    "    StandardScaler(), SimpleImputer(strategy=\"mean\", add_indicator=True))\n",
    "\n",
    "linear_preprocessor = make_column_transformer(\n",
    "    (num_linear_processor, num_selector), (cat_linear_processor, cat_selector))\n",
    "linear_preprocessor"
   ]
  },
  {
   "cell_type": "code",
   "execution_count": 40,
   "metadata": {},
   "outputs": [
    {
     "data": {
      "text/plain": [
       "Pipeline(steps=[('columntransformer',\n",
       "                 ColumnTransformer(transformers=[('pipeline',\n",
       "                                                  Pipeline(steps=[('standardscaler',\n",
       "                                                                   StandardScaler()),\n",
       "                                                                  ('simpleimputer',\n",
       "                                                                   SimpleImputer(add_indicator=True))]),\n",
       "                                                  <sklearn.compose._column_transformer.make_column_selector object at 0x000001B225B79490>),\n",
       "                                                 ('onehotencoder',\n",
       "                                                  OneHotEncoder(handle_unknown='ignore'),\n",
       "                                                  <sklearn.compose._column_transformer.make_column_selector object at 0x000001B225B79550>)])),\n",
       "                ('lassocv', LassoCV(random_state=42))])"
      ]
     },
     "execution_count": 40,
     "metadata": {},
     "output_type": "execute_result"
    }
   ],
   "source": [
    "from sklearn.linear_model import LassoCV\n",
    "\n",
    "lasso_pipeline = make_pipeline(linear_preprocessor, LassoCV(random_state = RANDOM_STATE))\n",
    "lasso_pipeline"
   ]
  },
  {
   "cell_type": "code",
   "execution_count": 41,
   "metadata": {},
   "outputs": [
    {
     "data": {
      "text/plain": [
       "Pipeline(steps=[('columntransformer',\n",
       "                 ColumnTransformer(transformers=[('simpleimputer',\n",
       "                                                  SimpleImputer(add_indicator=True),\n",
       "                                                  <sklearn.compose._column_transformer.make_column_selector object at 0x000001B225B79490>),\n",
       "                                                 ('ordinalencoder',\n",
       "                                                  OrdinalEncoder(handle_unknown='use_encoded_value',\n",
       "                                                                 unknown_value=-1),\n",
       "                                                  <sklearn.compose._column_transformer.make_column_selector object at 0x000001B225B79550>)])),\n",
       "                ('pca', PCA(random_state=42)),\n",
       "                ('histgradientboostingregressor',\n",
       "                 HistGradientBoostingRegressor(random_state=42))])"
      ]
     },
     "execution_count": 41,
     "metadata": {},
     "output_type": "execute_result"
    }
   ],
   "source": [
    "from sklearn.experimental import enable_hist_gradient_boosting  # noqa\n",
    "from sklearn.ensemble import HistGradientBoostingRegressor\n",
    "\n",
    "gbdt_pipeline = make_pipeline(\n",
    "    tree_preprocessor, PCA(random_state = RANDOM_STATE), HistGradientBoostingRegressor(random_state = RANDOM_STATE))\n",
    "gbdt_pipeline"
   ]
  },
  {
   "cell_type": "code",
   "execution_count": 42,
   "metadata": {},
   "outputs": [
    {
     "data": {
      "text/plain": [
       "StackingRegressor(cv=KFold(n_splits=10, random_state=42, shuffle=True),\n",
       "                  estimators=[('Random_Forest',\n",
       "                               Pipeline(steps=[('columntransformer',\n",
       "                                                ColumnTransformer(transformers=[('simpleimputer',\n",
       "                                                                                 SimpleImputer(add_indicator=True),\n",
       "                                                                                 <sklearn.compose._column_transformer.make_column_selector object at 0x000001B225B79490>),\n",
       "                                                                                ('ordinalencoder',\n",
       "                                                                                 OrdinalEncoder(handle_unknow...\n",
       "                                                                                 <sklearn.compose._column_transformer.make_column_selector object at 0x000001B225B79490>),\n",
       "                                                                                ('ordinalencoder',\n",
       "                                                                                 OrdinalEncoder(handle_unknown='use_encoded_value',\n",
       "                                                                                                unknown_value=-1),\n",
       "                                                                                 <sklearn.compose._column_transformer.make_column_selector object at 0x000001B225B79550>)])),\n",
       "                                               ('pca', PCA(random_state=42)),\n",
       "                                               ('histgradientboostingregressor',\n",
       "                                                HistGradientBoostingRegressor(random_state=42))]))],\n",
       "                  final_estimator=RidgeCV(alphas=array([ 0.1,  1. , 10. ])))"
      ]
     },
     "execution_count": 42,
     "metadata": {},
     "output_type": "execute_result"
    }
   ],
   "source": [
    "from sklearn.ensemble import StackingRegressor\n",
    "from sklearn.linear_model import RidgeCV\n",
    "\n",
    "estimators = [('Random_Forest', rf_pipeline),\n",
    "              ('Lasso', lasso_pipeline),\n",
    "              ('Gradient_Boosting', gbdt_pipeline)]\n",
    "\n",
    "stacking_regressor = StackingRegressor(\n",
    "    estimators = estimators,cv = cv, final_estimator = RidgeCV())\n",
    "stacking_regressor"
   ]
  },
  {
   "cell_type": "code",
   "execution_count": 43,
   "metadata": {},
   "outputs": [],
   "source": [
    "#stacking_regressor.fit(X_train, y_train)\n",
    "#stacking_regressor.predict(X_valid)\n",
    "#predictions = stacking_regressor.predict(X_test)"
   ]
  },
  {
   "cell_type": "code",
   "execution_count": 44,
   "metadata": {},
   "outputs": [
    {
     "data": {
      "text/plain": [
       "dict_keys(['cv', 'estimators', 'final_estimator__alpha_per_target', 'final_estimator__alphas', 'final_estimator__cv', 'final_estimator__fit_intercept', 'final_estimator__gcv_mode', 'final_estimator__normalize', 'final_estimator__scoring', 'final_estimator__store_cv_values', 'final_estimator', 'n_jobs', 'passthrough', 'verbose', 'Random_Forest', 'Lasso', 'Gradient_Boosting', 'Random_Forest__memory', 'Random_Forest__steps', 'Random_Forest__verbose', 'Random_Forest__columntransformer', 'Random_Forest__pca', 'Random_Forest__randomforestregressor', 'Random_Forest__columntransformer__n_jobs', 'Random_Forest__columntransformer__remainder', 'Random_Forest__columntransformer__sparse_threshold', 'Random_Forest__columntransformer__transformer_weights', 'Random_Forest__columntransformer__transformers', 'Random_Forest__columntransformer__verbose', 'Random_Forest__columntransformer__simpleimputer', 'Random_Forest__columntransformer__ordinalencoder', 'Random_Forest__columntransformer__simpleimputer__add_indicator', 'Random_Forest__columntransformer__simpleimputer__copy', 'Random_Forest__columntransformer__simpleimputer__fill_value', 'Random_Forest__columntransformer__simpleimputer__missing_values', 'Random_Forest__columntransformer__simpleimputer__strategy', 'Random_Forest__columntransformer__simpleimputer__verbose', 'Random_Forest__columntransformer__ordinalencoder__categories', 'Random_Forest__columntransformer__ordinalencoder__dtype', 'Random_Forest__columntransformer__ordinalencoder__handle_unknown', 'Random_Forest__columntransformer__ordinalencoder__unknown_value', 'Random_Forest__pca__copy', 'Random_Forest__pca__iterated_power', 'Random_Forest__pca__n_components', 'Random_Forest__pca__random_state', 'Random_Forest__pca__svd_solver', 'Random_Forest__pca__tol', 'Random_Forest__pca__whiten', 'Random_Forest__randomforestregressor__bootstrap', 'Random_Forest__randomforestregressor__ccp_alpha', 'Random_Forest__randomforestregressor__criterion', 'Random_Forest__randomforestregressor__max_depth', 'Random_Forest__randomforestregressor__max_features', 'Random_Forest__randomforestregressor__max_leaf_nodes', 'Random_Forest__randomforestregressor__max_samples', 'Random_Forest__randomforestregressor__min_impurity_decrease', 'Random_Forest__randomforestregressor__min_impurity_split', 'Random_Forest__randomforestregressor__min_samples_leaf', 'Random_Forest__randomforestregressor__min_samples_split', 'Random_Forest__randomforestregressor__min_weight_fraction_leaf', 'Random_Forest__randomforestregressor__n_estimators', 'Random_Forest__randomforestregressor__n_jobs', 'Random_Forest__randomforestregressor__oob_score', 'Random_Forest__randomforestregressor__random_state', 'Random_Forest__randomforestregressor__verbose', 'Random_Forest__randomforestregressor__warm_start', 'Lasso__memory', 'Lasso__steps', 'Lasso__verbose', 'Lasso__columntransformer', 'Lasso__lassocv', 'Lasso__columntransformer__n_jobs', 'Lasso__columntransformer__remainder', 'Lasso__columntransformer__sparse_threshold', 'Lasso__columntransformer__transformer_weights', 'Lasso__columntransformer__transformers', 'Lasso__columntransformer__verbose', 'Lasso__columntransformer__pipeline', 'Lasso__columntransformer__onehotencoder', 'Lasso__columntransformer__pipeline__memory', 'Lasso__columntransformer__pipeline__steps', 'Lasso__columntransformer__pipeline__verbose', 'Lasso__columntransformer__pipeline__standardscaler', 'Lasso__columntransformer__pipeline__simpleimputer', 'Lasso__columntransformer__pipeline__standardscaler__copy', 'Lasso__columntransformer__pipeline__standardscaler__with_mean', 'Lasso__columntransformer__pipeline__standardscaler__with_std', 'Lasso__columntransformer__pipeline__simpleimputer__add_indicator', 'Lasso__columntransformer__pipeline__simpleimputer__copy', 'Lasso__columntransformer__pipeline__simpleimputer__fill_value', 'Lasso__columntransformer__pipeline__simpleimputer__missing_values', 'Lasso__columntransformer__pipeline__simpleimputer__strategy', 'Lasso__columntransformer__pipeline__simpleimputer__verbose', 'Lasso__columntransformer__onehotencoder__categories', 'Lasso__columntransformer__onehotencoder__drop', 'Lasso__columntransformer__onehotencoder__dtype', 'Lasso__columntransformer__onehotencoder__handle_unknown', 'Lasso__columntransformer__onehotencoder__sparse', 'Lasso__lassocv__alphas', 'Lasso__lassocv__copy_X', 'Lasso__lassocv__cv', 'Lasso__lassocv__eps', 'Lasso__lassocv__fit_intercept', 'Lasso__lassocv__max_iter', 'Lasso__lassocv__n_alphas', 'Lasso__lassocv__n_jobs', 'Lasso__lassocv__normalize', 'Lasso__lassocv__positive', 'Lasso__lassocv__precompute', 'Lasso__lassocv__random_state', 'Lasso__lassocv__selection', 'Lasso__lassocv__tol', 'Lasso__lassocv__verbose', 'Gradient_Boosting__memory', 'Gradient_Boosting__steps', 'Gradient_Boosting__verbose', 'Gradient_Boosting__columntransformer', 'Gradient_Boosting__pca', 'Gradient_Boosting__histgradientboostingregressor', 'Gradient_Boosting__columntransformer__n_jobs', 'Gradient_Boosting__columntransformer__remainder', 'Gradient_Boosting__columntransformer__sparse_threshold', 'Gradient_Boosting__columntransformer__transformer_weights', 'Gradient_Boosting__columntransformer__transformers', 'Gradient_Boosting__columntransformer__verbose', 'Gradient_Boosting__columntransformer__simpleimputer', 'Gradient_Boosting__columntransformer__ordinalencoder', 'Gradient_Boosting__columntransformer__simpleimputer__add_indicator', 'Gradient_Boosting__columntransformer__simpleimputer__copy', 'Gradient_Boosting__columntransformer__simpleimputer__fill_value', 'Gradient_Boosting__columntransformer__simpleimputer__missing_values', 'Gradient_Boosting__columntransformer__simpleimputer__strategy', 'Gradient_Boosting__columntransformer__simpleimputer__verbose', 'Gradient_Boosting__columntransformer__ordinalencoder__categories', 'Gradient_Boosting__columntransformer__ordinalencoder__dtype', 'Gradient_Boosting__columntransformer__ordinalencoder__handle_unknown', 'Gradient_Boosting__columntransformer__ordinalencoder__unknown_value', 'Gradient_Boosting__pca__copy', 'Gradient_Boosting__pca__iterated_power', 'Gradient_Boosting__pca__n_components', 'Gradient_Boosting__pca__random_state', 'Gradient_Boosting__pca__svd_solver', 'Gradient_Boosting__pca__tol', 'Gradient_Boosting__pca__whiten', 'Gradient_Boosting__histgradientboostingregressor__categorical_features', 'Gradient_Boosting__histgradientboostingregressor__early_stopping', 'Gradient_Boosting__histgradientboostingregressor__l2_regularization', 'Gradient_Boosting__histgradientboostingregressor__learning_rate', 'Gradient_Boosting__histgradientboostingregressor__loss', 'Gradient_Boosting__histgradientboostingregressor__max_bins', 'Gradient_Boosting__histgradientboostingregressor__max_depth', 'Gradient_Boosting__histgradientboostingregressor__max_iter', 'Gradient_Boosting__histgradientboostingregressor__max_leaf_nodes', 'Gradient_Boosting__histgradientboostingregressor__min_samples_leaf', 'Gradient_Boosting__histgradientboostingregressor__monotonic_cst', 'Gradient_Boosting__histgradientboostingregressor__n_iter_no_change', 'Gradient_Boosting__histgradientboostingregressor__random_state', 'Gradient_Boosting__histgradientboostingregressor__scoring', 'Gradient_Boosting__histgradientboostingregressor__tol', 'Gradient_Boosting__histgradientboostingregressor__validation_fraction', 'Gradient_Boosting__histgradientboostingregressor__verbose', 'Gradient_Boosting__histgradientboostingregressor__warm_start'])"
      ]
     },
     "execution_count": 44,
     "metadata": {},
     "output_type": "execute_result"
    }
   ],
   "source": [
    "stacking_regressor.get_params().keys()"
   ]
  },
  {
   "cell_type": "code",
   "execution_count": 45,
   "metadata": {},
   "outputs": [],
   "source": [
    "param_grid = { \n",
    "   \n",
    "    'Random_Forest__pca__n_components': N_FEATURES_OPTIONS,   \n",
    "    \n",
    "    'Gradient_Boosting__pca__n_components': N_FEATURES_OPTIONS, \n",
    "    \n",
    "}"
   ]
  },
  {
   "cell_type": "code",
   "execution_count": null,
   "metadata": {},
   "outputs": [],
   "source": [
    "model_cv = GridSearchCV(estimator = stacking_regressor, param_grid = param_grid, cv = cv, refit = True, n_jobs = -1)\n",
    "model_cv.fit(X_train, y_train)\n",
    "print(model_cv.best_params_)\n",
    "model_cv.predict(X_valid)\n",
    "print(model_cv.score(X_valid, y_valid))\n",
    "predictions = model_cv.predict(X_test)\n"
   ]
  },
  {
   "cell_type": "markdown",
   "metadata": {},
   "source": [
    "In the code cell above, we set `squared=False` to get the root mean squared error (RMSE) on the validation data.\n",
    "\n",
    "# Step 5: Submit to the competition\n",
    "\n",
    "We'll begin by using the trained model to generate predictions, which we'll save to a CSV file."
   ]
  },
  {
   "cell_type": "code",
   "execution_count": null,
   "metadata": {
    "execution": {
     "iopub.status.busy": "2021-08-27T18:35:53.268299Z",
     "iopub.status.idle": "2021-08-27T18:35:53.268727Z"
    }
   },
   "outputs": [],
   "source": [
    "# Use the model to generate predictions\n",
    "predictions = model.predict(X_test)\n",
    "#predictions=y_pred\n",
    "# Save the predictions to a CSV file\n",
    "output = pd.DataFrame({'Id': X_test.index,\n",
    "                       'target': predictions})\n",
    "output.to_csv('submission.csv', index=False)"
   ]
  },
  {
   "cell_type": "markdown",
   "metadata": {},
   "source": [
    "Once you have run the code cell above, follow the instructions below to submit to the competition:\n",
    "1. Begin by clicking on the **Save Version** button in the top right corner of the window.  This will generate a pop-up window.  \n",
    "2. Ensure that the **Save and Run All** option is selected, and then click on the **Save** button.\n",
    "3. This generates a window in the bottom left corner of the notebook.  After it has finished running, click on the number to the right of the **Save Version** button.  This pulls up a list of versions on the right of the screen.  Click on the ellipsis **(...)** to the right of the most recent version, and select **Open in Viewer**.  This brings you into view mode of the same page. You will need to scroll down to get back to these instructions.\n",
    "4. Click on the **Output** tab on the right of the screen.  Then, click on the file you would like to submit, and click on the **Submit** button to submit your results to the leaderboard.\n",
    "\n",
    "You have now successfully submitted to the competition!\n",
    "\n",
    "If you want to keep working to improve your performance, select the **Edit** button in the top right of the screen. Then you can change your code and repeat the process. There's a lot of room to improve, and you will climb up the leaderboard as you work."
   ]
  },
  {
   "cell_type": "markdown",
   "metadata": {},
   "source": [
    "# Step 6: Keep Learning!\n",
    "\n",
    "If you're not sure what to do next, you can begin by trying out more model types!\n",
    "1. If you took the **[Intermediate Machine Learning](https://www.kaggle.com/learn/intermediate-machine-learning)** course, then you learned about **[XGBoost](https://www.kaggle.com/alexisbcook/xgboost)**.  Try training a model with XGBoost, to improve over the performance you got here.\n",
    "\n",
    "2. Take the time to learn about **Light GBM (LGBM)**, which is similar to XGBoost, since they both use gradient boosting to iteratively add decision trees to an ensemble.  In case you're not sure how to get started, **[here's a notebook](https://www.kaggle.com/svyatoslavsokolov/tps-feb-2021-lgbm-simple-version)** that trains a model on a similar dataset."
   ]
  }
 ],
 "metadata": {
  "kernelspec": {
   "display_name": "Python 3 (ipykernel)",
   "language": "python",
   "name": "python3"
  },
  "language_info": {
   "codemirror_mode": {
    "name": "ipython",
    "version": 3
   },
   "file_extension": ".py",
   "mimetype": "text/x-python",
   "name": "python",
   "nbconvert_exporter": "python",
   "pygments_lexer": "ipython3",
   "version": "3.7.11"
  }
 },
 "nbformat": 4,
 "nbformat_minor": 4
}
